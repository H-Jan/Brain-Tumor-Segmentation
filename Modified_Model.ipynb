{
  "nbformat": 4,
  "nbformat_minor": 0,
  "metadata": {
    "colab": {
      "provenance": [],
      "machine_shape": "hm",
      "gpuType": "A100"
    },
    "kernelspec": {
      "name": "python3",
      "display_name": "Python 3"
    },
    "language_info": {
      "name": "python"
    },
    "accelerator": "GPU"
  },
  "cells": [
    {
      "cell_type": "markdown",
      "source": [
        "##Libraries"
      ],
      "metadata": {
        "id": "UZj2i-MZBv7s"
      }
    },
    {
      "cell_type": "code",
      "source": [
        "!pip install segmentation-models-3D"
      ],
      "metadata": {
        "colab": {
          "base_uri": "https://localhost:8080/"
        },
        "id": "rTR5q66Jmkpt",
        "outputId": "cb1dfc7e-5140-468d-ae11-2958f6cdd5e1"
      },
      "execution_count": null,
      "outputs": [
        {
          "output_type": "stream",
          "name": "stdout",
          "text": [
            "Requirement already satisfied: segmentation-models-3D in /usr/local/lib/python3.10/dist-packages (1.1.1)\n",
            "Requirement already satisfied: keras==3.3.3 in /usr/local/lib/python3.10/dist-packages (from segmentation-models-3D) (3.3.3)\n",
            "Requirement already satisfied: classification-models-3D==1.1.0 in /usr/local/lib/python3.10/dist-packages (from segmentation-models-3D) (1.1.0)\n",
            "Requirement already satisfied: absl-py in /usr/local/lib/python3.10/dist-packages (from keras==3.3.3->segmentation-models-3D) (1.4.0)\n",
            "Requirement already satisfied: numpy in /usr/local/lib/python3.10/dist-packages (from keras==3.3.3->segmentation-models-3D) (1.26.4)\n",
            "Requirement already satisfied: rich in /usr/local/lib/python3.10/dist-packages (from keras==3.3.3->segmentation-models-3D) (13.9.4)\n",
            "Requirement already satisfied: namex in /usr/local/lib/python3.10/dist-packages (from keras==3.3.3->segmentation-models-3D) (0.0.8)\n",
            "Requirement already satisfied: h5py in /usr/local/lib/python3.10/dist-packages (from keras==3.3.3->segmentation-models-3D) (3.12.1)\n",
            "Requirement already satisfied: optree in /usr/local/lib/python3.10/dist-packages (from keras==3.3.3->segmentation-models-3D) (0.13.1)\n",
            "Requirement already satisfied: ml-dtypes in /usr/local/lib/python3.10/dist-packages (from keras==3.3.3->segmentation-models-3D) (0.4.1)\n",
            "Requirement already satisfied: typing-extensions>=4.5.0 in /usr/local/lib/python3.10/dist-packages (from optree->keras==3.3.3->segmentation-models-3D) (4.12.2)\n",
            "Requirement already satisfied: markdown-it-py>=2.2.0 in /usr/local/lib/python3.10/dist-packages (from rich->keras==3.3.3->segmentation-models-3D) (3.0.0)\n",
            "Requirement already satisfied: pygments<3.0.0,>=2.13.0 in /usr/local/lib/python3.10/dist-packages (from rich->keras==3.3.3->segmentation-models-3D) (2.18.0)\n",
            "Requirement already satisfied: mdurl~=0.1 in /usr/local/lib/python3.10/dist-packages (from markdown-it-py>=2.2.0->rich->keras==3.3.3->segmentation-models-3D) (0.1.2)\n"
          ]
        }
      ]
    },
    {
      "cell_type": "code",
      "source": [
        "###Libraries and imports\n",
        "import nibabel as nib\n",
        "import numpy as np\n",
        "import os\n",
        "import glob\n",
        "import matplotlib.pyplot as plt\n",
        "from scipy.ndimage import rotate, gaussian_filter\n",
        "import tensorflow as tf\n",
        "from tensorflow import keras\n",
        "from tensorflow.keras import mixed_precision\n",
        "from tensorflow.keras.layers import Input, Conv3D, MaxPooling3D, UpSampling3D, concatenate, BatchNormalization, Conv3DTranspose, Cropping3D, ZeroPadding3D\n",
        "from tensorflow.keras.models import Model\n",
        "from tensorflow.keras.utils import to_categorical\n",
        "from segmentation_models_3D.losses import DiceLoss\n",
        "from tensorflow.keras.losses import CategoricalCrossentropy\n",
        "from segmentation_models_3D.metrics import IOUScore, FScore\n",
        "from tensorflow.keras.callbacks import ReduceLROnPlateau\n",
        "from tensorflow.keras.models import Model\n",
        "import cv2\n",
        "import random\n",
        "from sklearn.model_selection import train_test_split"
      ],
      "metadata": {
        "id": "dVtLG8Bl5ReQ"
      },
      "execution_count": null,
      "outputs": []
    },
    {
      "cell_type": "markdown",
      "source": [
        "##Data Loading"
      ],
      "metadata": {
        "id": "qoxNmxkLByLZ"
      }
    },
    {
      "cell_type": "code",
      "execution_count": null,
      "metadata": {
        "colab": {
          "base_uri": "https://localhost:8080/"
        },
        "id": "fNrGIr-ngCOW",
        "outputId": "da7f4832-ff84-4ba6-ba35-540d2a2edb38"
      },
      "outputs": [
        {
          "output_type": "stream",
          "name": "stdout",
          "text": [
            "Drive already mounted at /content/drive; to attempt to forcibly remount, call drive.mount(\"/content/drive\", force_remount=True).\n"
          ]
        }
      ],
      "source": [
        "from google.colab import drive\n",
        "drive.mount('/content/drive')"
      ]
    },
    {
      "cell_type": "code",
      "source": [
        "# Define the path to the dataset in Google Drive\n",
        "base_path = '/content/drive/My Drive/BraTS2021/'"
      ],
      "metadata": {
        "id": "iWkPfkQmcHvu"
      },
      "execution_count": null,
      "outputs": []
    },
    {
      "cell_type": "code",
      "source": [
        "# Set mixed precision policy to reduce memory usage\n",
        "mixed_precision.set_global_policy('mixed_float16')"
      ],
      "metadata": {
        "id": "8X7bB7QggUnk"
      },
      "execution_count": null,
      "outputs": []
    },
    {
      "cell_type": "code",
      "source": [
        "# Define a function to load all file paths for each modality\n",
        "def load_file_paths(base_path):\n",
        "    # Define empty lists for storing paths of each modality\n",
        "    flair_files = []\n",
        "    t1_files = []\n",
        "    t1ce_files = []\n",
        "    t2_files = []\n",
        "    seg_files = []\n",
        "\n",
        "    # Traverse through all folders and subfolders in the base path\n",
        "    for root, _, files in os.walk(base_path):\n",
        "        for file in files:\n",
        "            if file.endswith('_flair.nii') or file.endswith('_flair.nii.gz'):\n",
        "                flair_files.append(os.path.join(root, file))\n",
        "            elif file.endswith('_t1.nii') or file.endswith('_t1.nii.gz'):\n",
        "                t1_files.append(os.path.join(root, file))\n",
        "            elif file.endswith('_t1ce.nii') or file.endswith('_t1ce.nii.gz'):\n",
        "                t1ce_files.append(os.path.join(root, file))\n",
        "            elif file.endswith('_t2.nii') or file.endswith('_t2.nii.gz'):\n",
        "                t2_files.append(os.path.join(root, file))\n",
        "            elif file.endswith('_seg.nii') or file.endswith('_seg.nii.gz'):\n",
        "                seg_files.append(os.path.join(root, file))\n",
        "\n",
        "    return flair_files, t1_files, t1ce_files, t2_files, seg_files\n",
        "\n",
        "# Load file paths for each modality\n",
        "flair_files, t1_files, t1ce_files, t2_files, seg_files = load_file_paths(base_path)\n",
        "\n",
        "# Print out the number of files found for each modality\n",
        "print(f\"Number of FLAIR files: {len(flair_files)}\")\n",
        "print(f\"Number of T1 files: {len(t1_files)}\")\n",
        "print(f\"Number of T1CE files: {len(t1ce_files)}\")\n",
        "print(f\"Number of T2 files: {len(t2_files)}\")\n",
        "print(f\"Number of Segmentation files: {len(seg_files)}\")\n"
      ],
      "metadata": {
        "colab": {
          "base_uri": "https://localhost:8080/"
        },
        "id": "V8kjgmh8O5NQ",
        "outputId": "423ad3e6-156a-4d47-80fe-5a78760dee99"
      },
      "execution_count": null,
      "outputs": [
        {
          "output_type": "stream",
          "name": "stdout",
          "text": [
            "Number of FLAIR files: 1253\n",
            "Number of T1 files: 1253\n",
            "Number of T1CE files: 1253\n",
            "Number of T2 files: 1253\n",
            "Number of Segmentation files: 1253\n"
          ]
        }
      ]
    },
    {
      "cell_type": "markdown",
      "source": [
        " - File paths are legit, let's continue"
      ],
      "metadata": {
        "id": "N_N4mTCRPowM"
      }
    },
    {
      "cell_type": "code",
      "source": [
        "# Check if the number of files is consistent across all modalities\n",
        "assert len(flair_files) == len(t1_files) == len(t1ce_files) == len(t2_files) == len(seg_files), \"Mismatch in the number of files across modalities.\"\n",
        "print(\"All modalities have a consistent number of files.\")"
      ],
      "metadata": {
        "colab": {
          "base_uri": "https://localhost:8080/"
        },
        "id": "r86weEnePqYD",
        "outputId": "865e46b5-195f-421c-a351-5ce34423093a"
      },
      "execution_count": null,
      "outputs": [
        {
          "output_type": "stream",
          "name": "stdout",
          "text": [
            "All modalities have a consistent number of files.\n"
          ]
        }
      ]
    },
    {
      "cell_type": "code",
      "source": [
        "import nibabel as nib\n",
        "\n",
        "# Function to load and display the shape of a sample file from each modality\n",
        "def load_and_verify_sample(flair_file, t1_file, t1ce_file, t2_file, seg_file):\n",
        "    try:\n",
        "        # Load FLAIR\n",
        "        flair_img = nib.load(flair_file)\n",
        "        print(f\"FLAIR shape: {flair_img.shape}\")\n",
        "\n",
        "        # Load T1\n",
        "        t1_img = nib.load(t1_file)\n",
        "        print(f\"T1 shape: {t1_img.shape}\")\n",
        "\n",
        "        # Load T1CE\n",
        "        t1ce_img = nib.load(t1ce_file)\n",
        "        print(f\"T1CE shape: {t1ce_img.shape}\")\n",
        "\n",
        "        # Load T2\n",
        "        t2_img = nib.load(t2_file)\n",
        "        print(f\"T2 shape: {t2_img.shape}\")\n",
        "\n",
        "        # Load Segmentation\n",
        "        seg_img = nib.load(seg_file)\n",
        "        print(f\"Segmentation shape: {seg_img.shape}\")\n",
        "\n",
        "    except Exception as e:\n",
        "        print(f\"Error loading files: {e}\")\n",
        "\n",
        "# Load and verify a sample from the first patient\n",
        "load_and_verify_sample(flair_files[0], t1_files[0], t1ce_files[0], t2_files[0], seg_files[0])\n"
      ],
      "metadata": {
        "colab": {
          "base_uri": "https://localhost:8080/"
        },
        "id": "DTlJVP_DPsCj",
        "outputId": "6eba7e75-fb02-485a-f490-aec774cc742b"
      },
      "execution_count": null,
      "outputs": [
        {
          "output_type": "stream",
          "name": "stdout",
          "text": [
            "FLAIR shape: (240, 240, 155)\n",
            "T1 shape: (240, 240, 155)\n",
            "T1CE shape: (240, 240, 155)\n",
            "T2 shape: (240, 240, 155)\n",
            "Segmentation shape: (240, 240, 155)\n"
          ]
        }
      ]
    },
    {
      "cell_type": "markdown",
      "source": [
        " - Finally some good good beautiful news."
      ],
      "metadata": {
        "id": "Sm-BeIYSPxNG"
      }
    },
    {
      "cell_type": "code",
      "source": [
        "# Split dataset into training and validation sets\n",
        "indices = list(range(len(flair_files)))\n",
        "train_indices, val_indices = train_test_split(indices, test_size=0.2, random_state=42)\n",
        "print(f\"Number of training samples: {len(train_indices)}\")\n",
        "print(f\"Number of validation samples: {len(val_indices)}\")"
      ],
      "metadata": {
        "colab": {
          "base_uri": "https://localhost:8080/"
        },
        "id": "7mF5k-XSSFpK",
        "outputId": "0e707ef4-fc06-49c5-e00a-e5915160eada"
      },
      "execution_count": null,
      "outputs": [
        {
          "output_type": "stream",
          "name": "stdout",
          "text": [
            "Number of training samples: 1002\n",
            "Number of validation samples: 251\n"
          ]
        }
      ]
    },
    {
      "cell_type": "markdown",
      "source": [
        "**OPTIMIZED CHANGES HERE**"
      ],
      "metadata": {
        "id": "qThbyfKqigV9"
      }
    },
    {
      "cell_type": "code",
      "source": [
        "class DataGenerator(tf.keras.utils.Sequence):\n",
        "    def __init__(self, indices, batch_size=2, augment=False, useful_threshold=0.03):\n",
        "        self.indices = indices\n",
        "        self.batch_size = batch_size\n",
        "        self.augment = augment\n",
        "        self.useful_threshold = useful_threshold  # Threshold for useful volume\n",
        "\n",
        "    def __len__(self):\n",
        "        return int(np.ceil(len(self.indices) / self.batch_size))\n",
        "\n",
        "    def __getitem__(self, index):\n",
        "        batch_indices = self.indices[index * self.batch_size:(index + 1) * self.batch_size]\n",
        "        X, y = [], []\n",
        "        for i in batch_indices:\n",
        "            # Load data for the patient\n",
        "            flair = nib.load(flair_files[i]).get_fdata()\n",
        "            t1 = nib.load(t1_files[i]).get_fdata()\n",
        "            t1ce = nib.load(t1ce_files[i]).get_fdata()\n",
        "            t2 = nib.load(t2_files[i]).get_fdata()\n",
        "            seg = nib.load(seg_files[i]).get_fdata()\n",
        "\n",
        "            # Check for useful volume in each modality\n",
        "            if (\n",
        "                self._useful_volume(flair) < self.useful_threshold or\n",
        "                self._useful_volume(t1) < self.useful_threshold or\n",
        "                self._useful_volume(t1ce) < self.useful_threshold or\n",
        "                self._useful_volume(t2) < self.useful_threshold\n",
        "            ):\n",
        "                print(f\"[INFO] Skipping patient {i} due to insufficient useful volume.\")\n",
        "                continue\n",
        "\n",
        "            # Stack modalities as channels\n",
        "            input_image = np.stack([flair, t1, t1ce, t2], axis=-1)\n",
        "\n",
        "            # Pad the depth dimension from 155 to 160\n",
        "            pad_diff = 160 - input_image.shape[2]\n",
        "            if pad_diff > 0:\n",
        "                input_image = np.pad(input_image, ((0, 0), (0, 0), (0, pad_diff), (0, 0)), mode='constant')\n",
        "                seg = np.pad(seg, ((0, 0), (0, 0), (0, pad_diff)), mode='constant')\n",
        "\n",
        "            # Normalize each modality independently\n",
        "            input_image[..., 0] = self._normalize(input_image[..., 0])  # FLAIR\n",
        "            input_image[..., 1] = self._normalize(input_image[..., 1])  # T1\n",
        "            input_image[..., 2] = self._normalize(input_image[..., 2])  # T1CE\n",
        "            input_image[..., 3] = self._normalize(input_image[..., 3])  # T2\n",
        "\n",
        "            # Convert segmentation mask to categorical\n",
        "            seg = to_categorical(seg, num_classes=5)\n",
        "\n",
        "            # Data augmentation (if enabled)\n",
        "            if self.augment:\n",
        "                if random.random() > 0.5:\n",
        "                    angle = random.uniform(-10, 10)\n",
        "                    input_image = rotate(input_image, angle, axes=(0, 1), reshape=False, mode='nearest')\n",
        "                    seg = rotate(seg, angle, axes=(0, 1), reshape=False, mode='nearest')\n",
        "\n",
        "            X.append(input_image)\n",
        "            y.append(seg)\n",
        "\n",
        "        return np.array(X, dtype=np.float32), np.array(y, dtype=np.float32)\n",
        "\n",
        "    def _normalize(self, volume):\n",
        "        \"\"\"Normalize a 3D volume to the range [0, 1].\"\"\"\n",
        "        return (volume - np.min(volume)) / (np.max(volume) - np.min(volume))\n",
        "\n",
        "    def _useful_volume(self, volume):\n",
        "        \"\"\"Calculate the proportion of useful volume (non-zero voxels).\"\"\"\n",
        "        return 1 - (np.sum(volume == 0) / volume.size)\n"
      ],
      "metadata": {
        "id": "NVhnS_1LSWcw"
      },
      "execution_count": null,
      "outputs": []
    },
    {
      "cell_type": "markdown",
      "source": [
        "**CHanged Batch from 1 to 4**"
      ],
      "metadata": {
        "id": "beEGFs3lkMyZ"
      }
    },
    {
      "cell_type": "code",
      "source": [
        "# Create data generators\n",
        "# Create data generators\n",
        "# 3% threshold for useful pixels to include instance\n",
        "train_generator = DataGenerator(indices=train_indices, batch_size=4, augment=True, useful_threshold=0.03)\n",
        "val_generator = DataGenerator(indices=val_indices, batch_size=4, augment=False, useful_threshold=0.03)"
      ],
      "metadata": {
        "id": "o8o1d5pNSY0e"
      },
      "execution_count": null,
      "outputs": []
    },
    {
      "cell_type": "code",
      "source": [
        "# Training instances\n",
        "train_total_instances = len(train_generator.indices)\n",
        "print(f\"Total number of training instances: {train_total_instances}\")\n",
        "\n",
        "# Validation instances\n",
        "val_total_instances = len(val_generator.indices)\n",
        "print(f\"Total number of validation instances: {val_total_instances}\")"
      ],
      "metadata": {
        "id": "9118JbWmgg0q",
        "colab": {
          "base_uri": "https://localhost:8080/"
        },
        "outputId": "ffe293ab-535c-4129-a8fb-3147888cca8e"
      },
      "execution_count": null,
      "outputs": [
        {
          "output_type": "stream",
          "name": "stdout",
          "text": [
            "Total number of training instances: 1002\n",
            "Total number of validation instances: 251\n"
          ]
        }
      ]
    },
    {
      "cell_type": "code",
      "source": [
        "class CheckpointedLayer(keras.layers.Layer):\n",
        "    def call(self, inputs, training=False):\n",
        "        if training:\n",
        "            return tf.recompute_grad(lambda: super().call(inputs))\n",
        "        else:\n",
        "            return super().call(inputs)"
      ],
      "metadata": {
        "id": "jhHNXk2amNzJ"
      },
      "execution_count": null,
      "outputs": []
    },
    {
      "cell_type": "code",
      "source": [
        "train_dataset = tf.data.Dataset.from_generator(lambda: train_generator, output_signature=(\n",
        "    tf.TensorSpec(shape=(None, 240, 240, 160, 4), dtype=tf.float32),\n",
        "    tf.TensorSpec(shape=(None, 240, 240, 160, 5), dtype=tf.float32))\n",
        ")\n",
        "\n",
        "val_dataset = tf.data.Dataset.from_generator(lambda: val_generator, output_signature=(\n",
        "    tf.TensorSpec(shape=(None, 240, 240, 160, 4), dtype=tf.float32),\n",
        "    tf.TensorSpec(shape=(None, 240, 240, 160, 5), dtype=tf.float32))\n",
        ")\n",
        "\n",
        "# Prefetch for efficiency\n",
        "train_dataset = train_dataset.batch(1).prefetch(tf.data.experimental.AUTOTUNE)\n",
        "val_dataset = val_dataset.batch(1).prefetch(tf.data.experimental.AUTOTUNE)"
      ],
      "metadata": {
        "id": "TzrZdDnmmZ7d"
      },
      "execution_count": null,
      "outputs": []
    },
    {
      "cell_type": "code",
      "source": [
        "def enhanced_unet_model(input_shape):\n",
        "    inputs = Input(input_shape)\n",
        "\n",
        "    # Contracting Path\n",
        "    conv1 = Conv3D(32, (3, 3, 3), activation='relu', padding='same')(inputs)\n",
        "    conv1 = BatchNormalization()(conv1)\n",
        "    conv1 = Conv3D(32, (3, 3, 3), activation='relu', padding='same')(conv1)\n",
        "    conv1 = BatchNormalization()(conv1)\n",
        "    pool1 = MaxPooling3D(pool_size=(2, 2, 2))(conv1)\n",
        "\n",
        "    conv2 = Conv3D(64, (3, 3, 3), activation='relu', padding='same')(pool1)\n",
        "    conv2 = BatchNormalization()(conv2)\n",
        "    conv2 = Conv3D(64, (3, 3, 3), activation='relu', padding='same')(conv2)\n",
        "    conv2 = BatchNormalization()(conv2)\n",
        "    pool2 = MaxPooling3D(pool_size=(2, 2, 2))(conv2)\n",
        "\n",
        "    conv3 = Conv3D(128, (3, 3, 3), activation='relu', padding='same')(pool2)\n",
        "    conv3 = BatchNormalization()(conv3)\n",
        "    conv3 = Conv3D(128, (3, 3, 3), activation='relu', padding='same')(conv3)\n",
        "    conv3 = BatchNormalization()(conv3)\n",
        "    pool3 = MaxPooling3D(pool_size=(2, 2, 2))(conv3)\n",
        "\n",
        "    # Bottleneck\n",
        "    conv4 = Conv3D(256, (3, 3, 3), activation='relu', padding='same')(pool3)\n",
        "    conv4 = BatchNormalization()(conv4)\n",
        "    conv4 = Conv3D(256, (3, 3, 3), activation='relu', padding='same')(conv4)\n",
        "    conv4 = BatchNormalization()(conv4)\n",
        "\n",
        "    # Expansive Path\n",
        "    up5 = Conv3DTranspose(128, (2, 2, 2), strides=(2, 2, 2), padding='same')(conv4)\n",
        "    up5 = concatenate([up5, conv3], axis=-1)\n",
        "    conv5 = Conv3D(128, (3, 3, 3), activation='relu', padding='same')(up5)\n",
        "    conv5 = BatchNormalization()(conv5)\n",
        "    conv5 = Conv3D(128, (3, 3, 3), activation='relu', padding='same')(conv5)\n",
        "    conv5 = BatchNormalization()(conv5)\n",
        "\n",
        "    up6 = Conv3DTranspose(64, (2, 2, 2), strides=(2, 2, 2), padding='same')(conv5)\n",
        "    up6 = concatenate([up6, conv2], axis=-1)\n",
        "    conv6 = Conv3D(64, (3, 3, 3), activation='relu', padding='same')(up6)\n",
        "    conv6 = BatchNormalization()(conv6)\n",
        "    conv6 = Conv3D(64, (3, 3, 3), activation='relu', padding='same')(conv6)\n",
        "    conv6 = BatchNormalization()(conv6)\n",
        "\n",
        "    up7 = Conv3DTranspose(32, (2, 2, 2), strides=(2, 2, 2), padding='same')(conv6)\n",
        "    up7 = concatenate([up7, conv1], axis=-1)\n",
        "    conv7 = Conv3D(32, (3, 3, 3), activation='relu', padding='same')(up7)\n",
        "    conv7 = BatchNormalization()(conv7)\n",
        "    conv7 = Conv3D(32, (3, 3, 3), activation='relu', padding='same')(conv7)\n",
        "    conv7 = BatchNormalization()(conv7)\n",
        "\n",
        "    outputs = Conv3D(5, (1, 1, 1), activation='softmax')(conv7)\n",
        "\n",
        "    model = Model(inputs=[inputs], outputs=[outputs])\n",
        "    return model\n",
        "\n",
        "\n",
        "# Input shape with even depth to prevent mismatches\n",
        "input_shape = (240, 240, 160, 4)  # Note: depth is now 160 (even number, power of 2)\n",
        "model = enhanced_unet_model(input_shape)\n",
        "model.summary()"
      ],
      "metadata": {
        "colab": {
          "base_uri": "https://localhost:8080/",
          "height": 1000
        },
        "id": "VZizwVVAX6iK",
        "outputId": "5e3337cd-bd6f-4291-925f-088f8316af95"
      },
      "execution_count": null,
      "outputs": [
        {
          "output_type": "display_data",
          "data": {
            "text/plain": [
              "\u001b[1mModel: \"functional_3\"\u001b[0m\n"
            ],
            "text/html": [
              "<pre style=\"white-space:pre;overflow-x:auto;line-height:normal;font-family:Menlo,'DejaVu Sans Mono',consolas,'Courier New',monospace\"><span style=\"font-weight: bold\">Model: \"functional_3\"</span>\n",
              "</pre>\n"
            ]
          },
          "metadata": {}
        },
        {
          "output_type": "display_data",
          "data": {
            "text/plain": [
              "┏━━━━━━━━━━━━━━━━━━━━━━━━━━━┳━━━━━━━━━━━━━━━━━━━━━━━━┳━━━━━━━━━━━━━━━━┳━━━━━━━━━━━━━━━━━━━━━━━━┓\n",
              "┃\u001b[1m \u001b[0m\u001b[1mLayer (type)             \u001b[0m\u001b[1m \u001b[0m┃\u001b[1m \u001b[0m\u001b[1mOutput Shape          \u001b[0m\u001b[1m \u001b[0m┃\u001b[1m \u001b[0m\u001b[1m       Param #\u001b[0m\u001b[1m \u001b[0m┃\u001b[1m \u001b[0m\u001b[1mConnected to          \u001b[0m\u001b[1m \u001b[0m┃\n",
              "┡━━━━━━━━━━━━━━━━━━━━━━━━━━━╇━━━━━━━━━━━━━━━━━━━━━━━━╇━━━━━━━━━━━━━━━━╇━━━━━━━━━━━━━━━━━━━━━━━━┩\n",
              "│ input_layer_1             │ (\u001b[38;5;45mNone\u001b[0m, \u001b[38;5;34m240\u001b[0m, \u001b[38;5;34m240\u001b[0m, \u001b[38;5;34m160\u001b[0m,  │              \u001b[38;5;34m0\u001b[0m │ -                      │\n",
              "│ (\u001b[38;5;33mInputLayer\u001b[0m)              │ \u001b[38;5;34m4\u001b[0m)                     │                │                        │\n",
              "├───────────────────────────┼────────────────────────┼────────────────┼────────────────────────┤\n",
              "│ conv3d_15 (\u001b[38;5;33mConv3D\u001b[0m)        │ (\u001b[38;5;45mNone\u001b[0m, \u001b[38;5;34m240\u001b[0m, \u001b[38;5;34m240\u001b[0m, \u001b[38;5;34m160\u001b[0m,  │          \u001b[38;5;34m3,488\u001b[0m │ input_layer_1[\u001b[38;5;34m0\u001b[0m][\u001b[38;5;34m0\u001b[0m]    │\n",
              "│                           │ \u001b[38;5;34m32\u001b[0m)                    │                │                        │\n",
              "├───────────────────────────┼────────────────────────┼────────────────┼────────────────────────┤\n",
              "│ batch_normalization_14    │ (\u001b[38;5;45mNone\u001b[0m, \u001b[38;5;34m240\u001b[0m, \u001b[38;5;34m240\u001b[0m, \u001b[38;5;34m160\u001b[0m,  │            \u001b[38;5;34m128\u001b[0m │ conv3d_15[\u001b[38;5;34m0\u001b[0m][\u001b[38;5;34m0\u001b[0m]        │\n",
              "│ (\u001b[38;5;33mBatchNormalization\u001b[0m)      │ \u001b[38;5;34m32\u001b[0m)                    │                │                        │\n",
              "├───────────────────────────┼────────────────────────┼────────────────┼────────────────────────┤\n",
              "│ conv3d_16 (\u001b[38;5;33mConv3D\u001b[0m)        │ (\u001b[38;5;45mNone\u001b[0m, \u001b[38;5;34m240\u001b[0m, \u001b[38;5;34m240\u001b[0m, \u001b[38;5;34m160\u001b[0m,  │         \u001b[38;5;34m27,680\u001b[0m │ batch_normalization_1… │\n",
              "│                           │ \u001b[38;5;34m32\u001b[0m)                    │                │                        │\n",
              "├───────────────────────────┼────────────────────────┼────────────────┼────────────────────────┤\n",
              "│ batch_normalization_15    │ (\u001b[38;5;45mNone\u001b[0m, \u001b[38;5;34m240\u001b[0m, \u001b[38;5;34m240\u001b[0m, \u001b[38;5;34m160\u001b[0m,  │            \u001b[38;5;34m128\u001b[0m │ conv3d_16[\u001b[38;5;34m0\u001b[0m][\u001b[38;5;34m0\u001b[0m]        │\n",
              "│ (\u001b[38;5;33mBatchNormalization\u001b[0m)      │ \u001b[38;5;34m32\u001b[0m)                    │                │                        │\n",
              "├───────────────────────────┼────────────────────────┼────────────────┼────────────────────────┤\n",
              "│ max_pooling3d_3           │ (\u001b[38;5;45mNone\u001b[0m, \u001b[38;5;34m120\u001b[0m, \u001b[38;5;34m120\u001b[0m, \u001b[38;5;34m80\u001b[0m,   │              \u001b[38;5;34m0\u001b[0m │ batch_normalization_1… │\n",
              "│ (\u001b[38;5;33mMaxPooling3D\u001b[0m)            │ \u001b[38;5;34m32\u001b[0m)                    │                │                        │\n",
              "├───────────────────────────┼────────────────────────┼────────────────┼────────────────────────┤\n",
              "│ conv3d_17 (\u001b[38;5;33mConv3D\u001b[0m)        │ (\u001b[38;5;45mNone\u001b[0m, \u001b[38;5;34m120\u001b[0m, \u001b[38;5;34m120\u001b[0m, \u001b[38;5;34m80\u001b[0m,   │         \u001b[38;5;34m55,360\u001b[0m │ max_pooling3d_3[\u001b[38;5;34m0\u001b[0m][\u001b[38;5;34m0\u001b[0m]  │\n",
              "│                           │ \u001b[38;5;34m64\u001b[0m)                    │                │                        │\n",
              "├───────────────────────────┼────────────────────────┼────────────────┼────────────────────────┤\n",
              "│ batch_normalization_16    │ (\u001b[38;5;45mNone\u001b[0m, \u001b[38;5;34m120\u001b[0m, \u001b[38;5;34m120\u001b[0m, \u001b[38;5;34m80\u001b[0m,   │            \u001b[38;5;34m256\u001b[0m │ conv3d_17[\u001b[38;5;34m0\u001b[0m][\u001b[38;5;34m0\u001b[0m]        │\n",
              "│ (\u001b[38;5;33mBatchNormalization\u001b[0m)      │ \u001b[38;5;34m64\u001b[0m)                    │                │                        │\n",
              "├───────────────────────────┼────────────────────────┼────────────────┼────────────────────────┤\n",
              "│ conv3d_18 (\u001b[38;5;33mConv3D\u001b[0m)        │ (\u001b[38;5;45mNone\u001b[0m, \u001b[38;5;34m120\u001b[0m, \u001b[38;5;34m120\u001b[0m, \u001b[38;5;34m80\u001b[0m,   │        \u001b[38;5;34m110,656\u001b[0m │ batch_normalization_1… │\n",
              "│                           │ \u001b[38;5;34m64\u001b[0m)                    │                │                        │\n",
              "├───────────────────────────┼────────────────────────┼────────────────┼────────────────────────┤\n",
              "│ batch_normalization_17    │ (\u001b[38;5;45mNone\u001b[0m, \u001b[38;5;34m120\u001b[0m, \u001b[38;5;34m120\u001b[0m, \u001b[38;5;34m80\u001b[0m,   │            \u001b[38;5;34m256\u001b[0m │ conv3d_18[\u001b[38;5;34m0\u001b[0m][\u001b[38;5;34m0\u001b[0m]        │\n",
              "│ (\u001b[38;5;33mBatchNormalization\u001b[0m)      │ \u001b[38;5;34m64\u001b[0m)                    │                │                        │\n",
              "├───────────────────────────┼────────────────────────┼────────────────┼────────────────────────┤\n",
              "│ max_pooling3d_4           │ (\u001b[38;5;45mNone\u001b[0m, \u001b[38;5;34m60\u001b[0m, \u001b[38;5;34m60\u001b[0m, \u001b[38;5;34m40\u001b[0m, \u001b[38;5;34m64\u001b[0m) │              \u001b[38;5;34m0\u001b[0m │ batch_normalization_1… │\n",
              "│ (\u001b[38;5;33mMaxPooling3D\u001b[0m)            │                        │                │                        │\n",
              "├───────────────────────────┼────────────────────────┼────────────────┼────────────────────────┤\n",
              "│ conv3d_19 (\u001b[38;5;33mConv3D\u001b[0m)        │ (\u001b[38;5;45mNone\u001b[0m, \u001b[38;5;34m60\u001b[0m, \u001b[38;5;34m60\u001b[0m, \u001b[38;5;34m40\u001b[0m,     │        \u001b[38;5;34m221,312\u001b[0m │ max_pooling3d_4[\u001b[38;5;34m0\u001b[0m][\u001b[38;5;34m0\u001b[0m]  │\n",
              "│                           │ \u001b[38;5;34m128\u001b[0m)                   │                │                        │\n",
              "├───────────────────────────┼────────────────────────┼────────────────┼────────────────────────┤\n",
              "│ batch_normalization_18    │ (\u001b[38;5;45mNone\u001b[0m, \u001b[38;5;34m60\u001b[0m, \u001b[38;5;34m60\u001b[0m, \u001b[38;5;34m40\u001b[0m,     │            \u001b[38;5;34m512\u001b[0m │ conv3d_19[\u001b[38;5;34m0\u001b[0m][\u001b[38;5;34m0\u001b[0m]        │\n",
              "│ (\u001b[38;5;33mBatchNormalization\u001b[0m)      │ \u001b[38;5;34m128\u001b[0m)                   │                │                        │\n",
              "├───────────────────────────┼────────────────────────┼────────────────┼────────────────────────┤\n",
              "│ conv3d_20 (\u001b[38;5;33mConv3D\u001b[0m)        │ (\u001b[38;5;45mNone\u001b[0m, \u001b[38;5;34m60\u001b[0m, \u001b[38;5;34m60\u001b[0m, \u001b[38;5;34m40\u001b[0m,     │        \u001b[38;5;34m442,496\u001b[0m │ batch_normalization_1… │\n",
              "│                           │ \u001b[38;5;34m128\u001b[0m)                   │                │                        │\n",
              "├───────────────────────────┼────────────────────────┼────────────────┼────────────────────────┤\n",
              "│ batch_normalization_19    │ (\u001b[38;5;45mNone\u001b[0m, \u001b[38;5;34m60\u001b[0m, \u001b[38;5;34m60\u001b[0m, \u001b[38;5;34m40\u001b[0m,     │            \u001b[38;5;34m512\u001b[0m │ conv3d_20[\u001b[38;5;34m0\u001b[0m][\u001b[38;5;34m0\u001b[0m]        │\n",
              "│ (\u001b[38;5;33mBatchNormalization\u001b[0m)      │ \u001b[38;5;34m128\u001b[0m)                   │                │                        │\n",
              "├───────────────────────────┼────────────────────────┼────────────────┼────────────────────────┤\n",
              "│ max_pooling3d_5           │ (\u001b[38;5;45mNone\u001b[0m, \u001b[38;5;34m30\u001b[0m, \u001b[38;5;34m30\u001b[0m, \u001b[38;5;34m20\u001b[0m,     │              \u001b[38;5;34m0\u001b[0m │ batch_normalization_1… │\n",
              "│ (\u001b[38;5;33mMaxPooling3D\u001b[0m)            │ \u001b[38;5;34m128\u001b[0m)                   │                │                        │\n",
              "├───────────────────────────┼────────────────────────┼────────────────┼────────────────────────┤\n",
              "│ conv3d_21 (\u001b[38;5;33mConv3D\u001b[0m)        │ (\u001b[38;5;45mNone\u001b[0m, \u001b[38;5;34m30\u001b[0m, \u001b[38;5;34m30\u001b[0m, \u001b[38;5;34m20\u001b[0m,     │        \u001b[38;5;34m884,992\u001b[0m │ max_pooling3d_5[\u001b[38;5;34m0\u001b[0m][\u001b[38;5;34m0\u001b[0m]  │\n",
              "│                           │ \u001b[38;5;34m256\u001b[0m)                   │                │                        │\n",
              "├───────────────────────────┼────────────────────────┼────────────────┼────────────────────────┤\n",
              "│ batch_normalization_20    │ (\u001b[38;5;45mNone\u001b[0m, \u001b[38;5;34m30\u001b[0m, \u001b[38;5;34m30\u001b[0m, \u001b[38;5;34m20\u001b[0m,     │          \u001b[38;5;34m1,024\u001b[0m │ conv3d_21[\u001b[38;5;34m0\u001b[0m][\u001b[38;5;34m0\u001b[0m]        │\n",
              "│ (\u001b[38;5;33mBatchNormalization\u001b[0m)      │ \u001b[38;5;34m256\u001b[0m)                   │                │                        │\n",
              "├───────────────────────────┼────────────────────────┼────────────────┼────────────────────────┤\n",
              "│ conv3d_22 (\u001b[38;5;33mConv3D\u001b[0m)        │ (\u001b[38;5;45mNone\u001b[0m, \u001b[38;5;34m30\u001b[0m, \u001b[38;5;34m30\u001b[0m, \u001b[38;5;34m20\u001b[0m,     │      \u001b[38;5;34m1,769,728\u001b[0m │ batch_normalization_2… │\n",
              "│                           │ \u001b[38;5;34m256\u001b[0m)                   │                │                        │\n",
              "├───────────────────────────┼────────────────────────┼────────────────┼────────────────────────┤\n",
              "│ batch_normalization_21    │ (\u001b[38;5;45mNone\u001b[0m, \u001b[38;5;34m30\u001b[0m, \u001b[38;5;34m30\u001b[0m, \u001b[38;5;34m20\u001b[0m,     │          \u001b[38;5;34m1,024\u001b[0m │ conv3d_22[\u001b[38;5;34m0\u001b[0m][\u001b[38;5;34m0\u001b[0m]        │\n",
              "│ (\u001b[38;5;33mBatchNormalization\u001b[0m)      │ \u001b[38;5;34m256\u001b[0m)                   │                │                        │\n",
              "├───────────────────────────┼────────────────────────┼────────────────┼────────────────────────┤\n",
              "│ conv3d_transpose_3        │ (\u001b[38;5;45mNone\u001b[0m, \u001b[38;5;34m60\u001b[0m, \u001b[38;5;34m60\u001b[0m, \u001b[38;5;34m40\u001b[0m,     │        \u001b[38;5;34m262,272\u001b[0m │ batch_normalization_2… │\n",
              "│ (\u001b[38;5;33mConv3DTranspose\u001b[0m)         │ \u001b[38;5;34m128\u001b[0m)                   │                │                        │\n",
              "├───────────────────────────┼────────────────────────┼────────────────┼────────────────────────┤\n",
              "│ concatenate_3             │ (\u001b[38;5;45mNone\u001b[0m, \u001b[38;5;34m60\u001b[0m, \u001b[38;5;34m60\u001b[0m, \u001b[38;5;34m40\u001b[0m,     │              \u001b[38;5;34m0\u001b[0m │ conv3d_transpose_3[\u001b[38;5;34m0\u001b[0m]… │\n",
              "│ (\u001b[38;5;33mConcatenate\u001b[0m)             │ \u001b[38;5;34m256\u001b[0m)                   │                │ batch_normalization_1… │\n",
              "├───────────────────────────┼────────────────────────┼────────────────┼────────────────────────┤\n",
              "│ conv3d_23 (\u001b[38;5;33mConv3D\u001b[0m)        │ (\u001b[38;5;45mNone\u001b[0m, \u001b[38;5;34m60\u001b[0m, \u001b[38;5;34m60\u001b[0m, \u001b[38;5;34m40\u001b[0m,     │        \u001b[38;5;34m884,864\u001b[0m │ concatenate_3[\u001b[38;5;34m0\u001b[0m][\u001b[38;5;34m0\u001b[0m]    │\n",
              "│                           │ \u001b[38;5;34m128\u001b[0m)                   │                │                        │\n",
              "├───────────────────────────┼────────────────────────┼────────────────┼────────────────────────┤\n",
              "│ batch_normalization_22    │ (\u001b[38;5;45mNone\u001b[0m, \u001b[38;5;34m60\u001b[0m, \u001b[38;5;34m60\u001b[0m, \u001b[38;5;34m40\u001b[0m,     │            \u001b[38;5;34m512\u001b[0m │ conv3d_23[\u001b[38;5;34m0\u001b[0m][\u001b[38;5;34m0\u001b[0m]        │\n",
              "│ (\u001b[38;5;33mBatchNormalization\u001b[0m)      │ \u001b[38;5;34m128\u001b[0m)                   │                │                        │\n",
              "├───────────────────────────┼────────────────────────┼────────────────┼────────────────────────┤\n",
              "│ conv3d_24 (\u001b[38;5;33mConv3D\u001b[0m)        │ (\u001b[38;5;45mNone\u001b[0m, \u001b[38;5;34m60\u001b[0m, \u001b[38;5;34m60\u001b[0m, \u001b[38;5;34m40\u001b[0m,     │        \u001b[38;5;34m442,496\u001b[0m │ batch_normalization_2… │\n",
              "│                           │ \u001b[38;5;34m128\u001b[0m)                   │                │                        │\n",
              "├───────────────────────────┼────────────────────────┼────────────────┼────────────────────────┤\n",
              "│ batch_normalization_23    │ (\u001b[38;5;45mNone\u001b[0m, \u001b[38;5;34m60\u001b[0m, \u001b[38;5;34m60\u001b[0m, \u001b[38;5;34m40\u001b[0m,     │            \u001b[38;5;34m512\u001b[0m │ conv3d_24[\u001b[38;5;34m0\u001b[0m][\u001b[38;5;34m0\u001b[0m]        │\n",
              "│ (\u001b[38;5;33mBatchNormalization\u001b[0m)      │ \u001b[38;5;34m128\u001b[0m)                   │                │                        │\n",
              "├───────────────────────────┼────────────────────────┼────────────────┼────────────────────────┤\n",
              "│ conv3d_transpose_4        │ (\u001b[38;5;45mNone\u001b[0m, \u001b[38;5;34m120\u001b[0m, \u001b[38;5;34m120\u001b[0m, \u001b[38;5;34m80\u001b[0m,   │         \u001b[38;5;34m65,600\u001b[0m │ batch_normalization_2… │\n",
              "│ (\u001b[38;5;33mConv3DTranspose\u001b[0m)         │ \u001b[38;5;34m64\u001b[0m)                    │                │                        │\n",
              "├───────────────────────────┼────────────────────────┼────────────────┼────────────────────────┤\n",
              "│ concatenate_4             │ (\u001b[38;5;45mNone\u001b[0m, \u001b[38;5;34m120\u001b[0m, \u001b[38;5;34m120\u001b[0m, \u001b[38;5;34m80\u001b[0m,   │              \u001b[38;5;34m0\u001b[0m │ conv3d_transpose_4[\u001b[38;5;34m0\u001b[0m]… │\n",
              "│ (\u001b[38;5;33mConcatenate\u001b[0m)             │ \u001b[38;5;34m128\u001b[0m)                   │                │ batch_normalization_1… │\n",
              "├───────────────────────────┼────────────────────────┼────────────────┼────────────────────────┤\n",
              "│ conv3d_25 (\u001b[38;5;33mConv3D\u001b[0m)        │ (\u001b[38;5;45mNone\u001b[0m, \u001b[38;5;34m120\u001b[0m, \u001b[38;5;34m120\u001b[0m, \u001b[38;5;34m80\u001b[0m,   │        \u001b[38;5;34m221,248\u001b[0m │ concatenate_4[\u001b[38;5;34m0\u001b[0m][\u001b[38;5;34m0\u001b[0m]    │\n",
              "│                           │ \u001b[38;5;34m64\u001b[0m)                    │                │                        │\n",
              "├───────────────────────────┼────────────────────────┼────────────────┼────────────────────────┤\n",
              "│ batch_normalization_24    │ (\u001b[38;5;45mNone\u001b[0m, \u001b[38;5;34m120\u001b[0m, \u001b[38;5;34m120\u001b[0m, \u001b[38;5;34m80\u001b[0m,   │            \u001b[38;5;34m256\u001b[0m │ conv3d_25[\u001b[38;5;34m0\u001b[0m][\u001b[38;5;34m0\u001b[0m]        │\n",
              "│ (\u001b[38;5;33mBatchNormalization\u001b[0m)      │ \u001b[38;5;34m64\u001b[0m)                    │                │                        │\n",
              "├───────────────────────────┼────────────────────────┼────────────────┼────────────────────────┤\n",
              "│ conv3d_26 (\u001b[38;5;33mConv3D\u001b[0m)        │ (\u001b[38;5;45mNone\u001b[0m, \u001b[38;5;34m120\u001b[0m, \u001b[38;5;34m120\u001b[0m, \u001b[38;5;34m80\u001b[0m,   │        \u001b[38;5;34m110,656\u001b[0m │ batch_normalization_2… │\n",
              "│                           │ \u001b[38;5;34m64\u001b[0m)                    │                │                        │\n",
              "├───────────────────────────┼────────────────────────┼────────────────┼────────────────────────┤\n",
              "│ batch_normalization_25    │ (\u001b[38;5;45mNone\u001b[0m, \u001b[38;5;34m120\u001b[0m, \u001b[38;5;34m120\u001b[0m, \u001b[38;5;34m80\u001b[0m,   │            \u001b[38;5;34m256\u001b[0m │ conv3d_26[\u001b[38;5;34m0\u001b[0m][\u001b[38;5;34m0\u001b[0m]        │\n",
              "│ (\u001b[38;5;33mBatchNormalization\u001b[0m)      │ \u001b[38;5;34m64\u001b[0m)                    │                │                        │\n",
              "├───────────────────────────┼────────────────────────┼────────────────┼────────────────────────┤\n",
              "│ conv3d_transpose_5        │ (\u001b[38;5;45mNone\u001b[0m, \u001b[38;5;34m240\u001b[0m, \u001b[38;5;34m240\u001b[0m, \u001b[38;5;34m160\u001b[0m,  │         \u001b[38;5;34m16,416\u001b[0m │ batch_normalization_2… │\n",
              "│ (\u001b[38;5;33mConv3DTranspose\u001b[0m)         │ \u001b[38;5;34m32\u001b[0m)                    │                │                        │\n",
              "├───────────────────────────┼────────────────────────┼────────────────┼────────────────────────┤\n",
              "│ concatenate_5             │ (\u001b[38;5;45mNone\u001b[0m, \u001b[38;5;34m240\u001b[0m, \u001b[38;5;34m240\u001b[0m, \u001b[38;5;34m160\u001b[0m,  │              \u001b[38;5;34m0\u001b[0m │ conv3d_transpose_5[\u001b[38;5;34m0\u001b[0m]… │\n",
              "│ (\u001b[38;5;33mConcatenate\u001b[0m)             │ \u001b[38;5;34m64\u001b[0m)                    │                │ batch_normalization_1… │\n",
              "├───────────────────────────┼────────────────────────┼────────────────┼────────────────────────┤\n",
              "│ conv3d_27 (\u001b[38;5;33mConv3D\u001b[0m)        │ (\u001b[38;5;45mNone\u001b[0m, \u001b[38;5;34m240\u001b[0m, \u001b[38;5;34m240\u001b[0m, \u001b[38;5;34m160\u001b[0m,  │         \u001b[38;5;34m55,328\u001b[0m │ concatenate_5[\u001b[38;5;34m0\u001b[0m][\u001b[38;5;34m0\u001b[0m]    │\n",
              "│                           │ \u001b[38;5;34m32\u001b[0m)                    │                │                        │\n",
              "├───────────────────────────┼────────────────────────┼────────────────┼────────────────────────┤\n",
              "│ batch_normalization_26    │ (\u001b[38;5;45mNone\u001b[0m, \u001b[38;5;34m240\u001b[0m, \u001b[38;5;34m240\u001b[0m, \u001b[38;5;34m160\u001b[0m,  │            \u001b[38;5;34m128\u001b[0m │ conv3d_27[\u001b[38;5;34m0\u001b[0m][\u001b[38;5;34m0\u001b[0m]        │\n",
              "│ (\u001b[38;5;33mBatchNormalization\u001b[0m)      │ \u001b[38;5;34m32\u001b[0m)                    │                │                        │\n",
              "├───────────────────────────┼────────────────────────┼────────────────┼────────────────────────┤\n",
              "│ conv3d_28 (\u001b[38;5;33mConv3D\u001b[0m)        │ (\u001b[38;5;45mNone\u001b[0m, \u001b[38;5;34m240\u001b[0m, \u001b[38;5;34m240\u001b[0m, \u001b[38;5;34m160\u001b[0m,  │         \u001b[38;5;34m27,680\u001b[0m │ batch_normalization_2… │\n",
              "│                           │ \u001b[38;5;34m32\u001b[0m)                    │                │                        │\n",
              "├───────────────────────────┼────────────────────────┼────────────────┼────────────────────────┤\n",
              "│ batch_normalization_27    │ (\u001b[38;5;45mNone\u001b[0m, \u001b[38;5;34m240\u001b[0m, \u001b[38;5;34m240\u001b[0m, \u001b[38;5;34m160\u001b[0m,  │            \u001b[38;5;34m128\u001b[0m │ conv3d_28[\u001b[38;5;34m0\u001b[0m][\u001b[38;5;34m0\u001b[0m]        │\n",
              "│ (\u001b[38;5;33mBatchNormalization\u001b[0m)      │ \u001b[38;5;34m32\u001b[0m)                    │                │                        │\n",
              "├───────────────────────────┼────────────────────────┼────────────────┼────────────────────────┤\n",
              "│ conv3d_29 (\u001b[38;5;33mConv3D\u001b[0m)        │ (\u001b[38;5;45mNone\u001b[0m, \u001b[38;5;34m240\u001b[0m, \u001b[38;5;34m240\u001b[0m, \u001b[38;5;34m160\u001b[0m,  │            \u001b[38;5;34m165\u001b[0m │ batch_normalization_2… │\n",
              "│                           │ \u001b[38;5;34m5\u001b[0m)                     │                │                        │\n",
              "└───────────────────────────┴────────────────────────┴────────────────┴────────────────────────┘\n"
            ],
            "text/html": [
              "<pre style=\"white-space:pre;overflow-x:auto;line-height:normal;font-family:Menlo,'DejaVu Sans Mono',consolas,'Courier New',monospace\">┏━━━━━━━━━━━━━━━━━━━━━━━━━━━┳━━━━━━━━━━━━━━━━━━━━━━━━┳━━━━━━━━━━━━━━━━┳━━━━━━━━━━━━━━━━━━━━━━━━┓\n",
              "┃<span style=\"font-weight: bold\"> Layer (type)              </span>┃<span style=\"font-weight: bold\"> Output Shape           </span>┃<span style=\"font-weight: bold\">        Param # </span>┃<span style=\"font-weight: bold\"> Connected to           </span>┃\n",
              "┡━━━━━━━━━━━━━━━━━━━━━━━━━━━╇━━━━━━━━━━━━━━━━━━━━━━━━╇━━━━━━━━━━━━━━━━╇━━━━━━━━━━━━━━━━━━━━━━━━┩\n",
              "│ input_layer_1             │ (<span style=\"color: #00d7ff; text-decoration-color: #00d7ff\">None</span>, <span style=\"color: #00af00; text-decoration-color: #00af00\">240</span>, <span style=\"color: #00af00; text-decoration-color: #00af00\">240</span>, <span style=\"color: #00af00; text-decoration-color: #00af00\">160</span>,  │              <span style=\"color: #00af00; text-decoration-color: #00af00\">0</span> │ -                      │\n",
              "│ (<span style=\"color: #0087ff; text-decoration-color: #0087ff\">InputLayer</span>)              │ <span style=\"color: #00af00; text-decoration-color: #00af00\">4</span>)                     │                │                        │\n",
              "├───────────────────────────┼────────────────────────┼────────────────┼────────────────────────┤\n",
              "│ conv3d_15 (<span style=\"color: #0087ff; text-decoration-color: #0087ff\">Conv3D</span>)        │ (<span style=\"color: #00d7ff; text-decoration-color: #00d7ff\">None</span>, <span style=\"color: #00af00; text-decoration-color: #00af00\">240</span>, <span style=\"color: #00af00; text-decoration-color: #00af00\">240</span>, <span style=\"color: #00af00; text-decoration-color: #00af00\">160</span>,  │          <span style=\"color: #00af00; text-decoration-color: #00af00\">3,488</span> │ input_layer_1[<span style=\"color: #00af00; text-decoration-color: #00af00\">0</span>][<span style=\"color: #00af00; text-decoration-color: #00af00\">0</span>]    │\n",
              "│                           │ <span style=\"color: #00af00; text-decoration-color: #00af00\">32</span>)                    │                │                        │\n",
              "├───────────────────────────┼────────────────────────┼────────────────┼────────────────────────┤\n",
              "│ batch_normalization_14    │ (<span style=\"color: #00d7ff; text-decoration-color: #00d7ff\">None</span>, <span style=\"color: #00af00; text-decoration-color: #00af00\">240</span>, <span style=\"color: #00af00; text-decoration-color: #00af00\">240</span>, <span style=\"color: #00af00; text-decoration-color: #00af00\">160</span>,  │            <span style=\"color: #00af00; text-decoration-color: #00af00\">128</span> │ conv3d_15[<span style=\"color: #00af00; text-decoration-color: #00af00\">0</span>][<span style=\"color: #00af00; text-decoration-color: #00af00\">0</span>]        │\n",
              "│ (<span style=\"color: #0087ff; text-decoration-color: #0087ff\">BatchNormalization</span>)      │ <span style=\"color: #00af00; text-decoration-color: #00af00\">32</span>)                    │                │                        │\n",
              "├───────────────────────────┼────────────────────────┼────────────────┼────────────────────────┤\n",
              "│ conv3d_16 (<span style=\"color: #0087ff; text-decoration-color: #0087ff\">Conv3D</span>)        │ (<span style=\"color: #00d7ff; text-decoration-color: #00d7ff\">None</span>, <span style=\"color: #00af00; text-decoration-color: #00af00\">240</span>, <span style=\"color: #00af00; text-decoration-color: #00af00\">240</span>, <span style=\"color: #00af00; text-decoration-color: #00af00\">160</span>,  │         <span style=\"color: #00af00; text-decoration-color: #00af00\">27,680</span> │ batch_normalization_1… │\n",
              "│                           │ <span style=\"color: #00af00; text-decoration-color: #00af00\">32</span>)                    │                │                        │\n",
              "├───────────────────────────┼────────────────────────┼────────────────┼────────────────────────┤\n",
              "│ batch_normalization_15    │ (<span style=\"color: #00d7ff; text-decoration-color: #00d7ff\">None</span>, <span style=\"color: #00af00; text-decoration-color: #00af00\">240</span>, <span style=\"color: #00af00; text-decoration-color: #00af00\">240</span>, <span style=\"color: #00af00; text-decoration-color: #00af00\">160</span>,  │            <span style=\"color: #00af00; text-decoration-color: #00af00\">128</span> │ conv3d_16[<span style=\"color: #00af00; text-decoration-color: #00af00\">0</span>][<span style=\"color: #00af00; text-decoration-color: #00af00\">0</span>]        │\n",
              "│ (<span style=\"color: #0087ff; text-decoration-color: #0087ff\">BatchNormalization</span>)      │ <span style=\"color: #00af00; text-decoration-color: #00af00\">32</span>)                    │                │                        │\n",
              "├───────────────────────────┼────────────────────────┼────────────────┼────────────────────────┤\n",
              "│ max_pooling3d_3           │ (<span style=\"color: #00d7ff; text-decoration-color: #00d7ff\">None</span>, <span style=\"color: #00af00; text-decoration-color: #00af00\">120</span>, <span style=\"color: #00af00; text-decoration-color: #00af00\">120</span>, <span style=\"color: #00af00; text-decoration-color: #00af00\">80</span>,   │              <span style=\"color: #00af00; text-decoration-color: #00af00\">0</span> │ batch_normalization_1… │\n",
              "│ (<span style=\"color: #0087ff; text-decoration-color: #0087ff\">MaxPooling3D</span>)            │ <span style=\"color: #00af00; text-decoration-color: #00af00\">32</span>)                    │                │                        │\n",
              "├───────────────────────────┼────────────────────────┼────────────────┼────────────────────────┤\n",
              "│ conv3d_17 (<span style=\"color: #0087ff; text-decoration-color: #0087ff\">Conv3D</span>)        │ (<span style=\"color: #00d7ff; text-decoration-color: #00d7ff\">None</span>, <span style=\"color: #00af00; text-decoration-color: #00af00\">120</span>, <span style=\"color: #00af00; text-decoration-color: #00af00\">120</span>, <span style=\"color: #00af00; text-decoration-color: #00af00\">80</span>,   │         <span style=\"color: #00af00; text-decoration-color: #00af00\">55,360</span> │ max_pooling3d_3[<span style=\"color: #00af00; text-decoration-color: #00af00\">0</span>][<span style=\"color: #00af00; text-decoration-color: #00af00\">0</span>]  │\n",
              "│                           │ <span style=\"color: #00af00; text-decoration-color: #00af00\">64</span>)                    │                │                        │\n",
              "├───────────────────────────┼────────────────────────┼────────────────┼────────────────────────┤\n",
              "│ batch_normalization_16    │ (<span style=\"color: #00d7ff; text-decoration-color: #00d7ff\">None</span>, <span style=\"color: #00af00; text-decoration-color: #00af00\">120</span>, <span style=\"color: #00af00; text-decoration-color: #00af00\">120</span>, <span style=\"color: #00af00; text-decoration-color: #00af00\">80</span>,   │            <span style=\"color: #00af00; text-decoration-color: #00af00\">256</span> │ conv3d_17[<span style=\"color: #00af00; text-decoration-color: #00af00\">0</span>][<span style=\"color: #00af00; text-decoration-color: #00af00\">0</span>]        │\n",
              "│ (<span style=\"color: #0087ff; text-decoration-color: #0087ff\">BatchNormalization</span>)      │ <span style=\"color: #00af00; text-decoration-color: #00af00\">64</span>)                    │                │                        │\n",
              "├───────────────────────────┼────────────────────────┼────────────────┼────────────────────────┤\n",
              "│ conv3d_18 (<span style=\"color: #0087ff; text-decoration-color: #0087ff\">Conv3D</span>)        │ (<span style=\"color: #00d7ff; text-decoration-color: #00d7ff\">None</span>, <span style=\"color: #00af00; text-decoration-color: #00af00\">120</span>, <span style=\"color: #00af00; text-decoration-color: #00af00\">120</span>, <span style=\"color: #00af00; text-decoration-color: #00af00\">80</span>,   │        <span style=\"color: #00af00; text-decoration-color: #00af00\">110,656</span> │ batch_normalization_1… │\n",
              "│                           │ <span style=\"color: #00af00; text-decoration-color: #00af00\">64</span>)                    │                │                        │\n",
              "├───────────────────────────┼────────────────────────┼────────────────┼────────────────────────┤\n",
              "│ batch_normalization_17    │ (<span style=\"color: #00d7ff; text-decoration-color: #00d7ff\">None</span>, <span style=\"color: #00af00; text-decoration-color: #00af00\">120</span>, <span style=\"color: #00af00; text-decoration-color: #00af00\">120</span>, <span style=\"color: #00af00; text-decoration-color: #00af00\">80</span>,   │            <span style=\"color: #00af00; text-decoration-color: #00af00\">256</span> │ conv3d_18[<span style=\"color: #00af00; text-decoration-color: #00af00\">0</span>][<span style=\"color: #00af00; text-decoration-color: #00af00\">0</span>]        │\n",
              "│ (<span style=\"color: #0087ff; text-decoration-color: #0087ff\">BatchNormalization</span>)      │ <span style=\"color: #00af00; text-decoration-color: #00af00\">64</span>)                    │                │                        │\n",
              "├───────────────────────────┼────────────────────────┼────────────────┼────────────────────────┤\n",
              "│ max_pooling3d_4           │ (<span style=\"color: #00d7ff; text-decoration-color: #00d7ff\">None</span>, <span style=\"color: #00af00; text-decoration-color: #00af00\">60</span>, <span style=\"color: #00af00; text-decoration-color: #00af00\">60</span>, <span style=\"color: #00af00; text-decoration-color: #00af00\">40</span>, <span style=\"color: #00af00; text-decoration-color: #00af00\">64</span>) │              <span style=\"color: #00af00; text-decoration-color: #00af00\">0</span> │ batch_normalization_1… │\n",
              "│ (<span style=\"color: #0087ff; text-decoration-color: #0087ff\">MaxPooling3D</span>)            │                        │                │                        │\n",
              "├───────────────────────────┼────────────────────────┼────────────────┼────────────────────────┤\n",
              "│ conv3d_19 (<span style=\"color: #0087ff; text-decoration-color: #0087ff\">Conv3D</span>)        │ (<span style=\"color: #00d7ff; text-decoration-color: #00d7ff\">None</span>, <span style=\"color: #00af00; text-decoration-color: #00af00\">60</span>, <span style=\"color: #00af00; text-decoration-color: #00af00\">60</span>, <span style=\"color: #00af00; text-decoration-color: #00af00\">40</span>,     │        <span style=\"color: #00af00; text-decoration-color: #00af00\">221,312</span> │ max_pooling3d_4[<span style=\"color: #00af00; text-decoration-color: #00af00\">0</span>][<span style=\"color: #00af00; text-decoration-color: #00af00\">0</span>]  │\n",
              "│                           │ <span style=\"color: #00af00; text-decoration-color: #00af00\">128</span>)                   │                │                        │\n",
              "├───────────────────────────┼────────────────────────┼────────────────┼────────────────────────┤\n",
              "│ batch_normalization_18    │ (<span style=\"color: #00d7ff; text-decoration-color: #00d7ff\">None</span>, <span style=\"color: #00af00; text-decoration-color: #00af00\">60</span>, <span style=\"color: #00af00; text-decoration-color: #00af00\">60</span>, <span style=\"color: #00af00; text-decoration-color: #00af00\">40</span>,     │            <span style=\"color: #00af00; text-decoration-color: #00af00\">512</span> │ conv3d_19[<span style=\"color: #00af00; text-decoration-color: #00af00\">0</span>][<span style=\"color: #00af00; text-decoration-color: #00af00\">0</span>]        │\n",
              "│ (<span style=\"color: #0087ff; text-decoration-color: #0087ff\">BatchNormalization</span>)      │ <span style=\"color: #00af00; text-decoration-color: #00af00\">128</span>)                   │                │                        │\n",
              "├───────────────────────────┼────────────────────────┼────────────────┼────────────────────────┤\n",
              "│ conv3d_20 (<span style=\"color: #0087ff; text-decoration-color: #0087ff\">Conv3D</span>)        │ (<span style=\"color: #00d7ff; text-decoration-color: #00d7ff\">None</span>, <span style=\"color: #00af00; text-decoration-color: #00af00\">60</span>, <span style=\"color: #00af00; text-decoration-color: #00af00\">60</span>, <span style=\"color: #00af00; text-decoration-color: #00af00\">40</span>,     │        <span style=\"color: #00af00; text-decoration-color: #00af00\">442,496</span> │ batch_normalization_1… │\n",
              "│                           │ <span style=\"color: #00af00; text-decoration-color: #00af00\">128</span>)                   │                │                        │\n",
              "├───────────────────────────┼────────────────────────┼────────────────┼────────────────────────┤\n",
              "│ batch_normalization_19    │ (<span style=\"color: #00d7ff; text-decoration-color: #00d7ff\">None</span>, <span style=\"color: #00af00; text-decoration-color: #00af00\">60</span>, <span style=\"color: #00af00; text-decoration-color: #00af00\">60</span>, <span style=\"color: #00af00; text-decoration-color: #00af00\">40</span>,     │            <span style=\"color: #00af00; text-decoration-color: #00af00\">512</span> │ conv3d_20[<span style=\"color: #00af00; text-decoration-color: #00af00\">0</span>][<span style=\"color: #00af00; text-decoration-color: #00af00\">0</span>]        │\n",
              "│ (<span style=\"color: #0087ff; text-decoration-color: #0087ff\">BatchNormalization</span>)      │ <span style=\"color: #00af00; text-decoration-color: #00af00\">128</span>)                   │                │                        │\n",
              "├───────────────────────────┼────────────────────────┼────────────────┼────────────────────────┤\n",
              "│ max_pooling3d_5           │ (<span style=\"color: #00d7ff; text-decoration-color: #00d7ff\">None</span>, <span style=\"color: #00af00; text-decoration-color: #00af00\">30</span>, <span style=\"color: #00af00; text-decoration-color: #00af00\">30</span>, <span style=\"color: #00af00; text-decoration-color: #00af00\">20</span>,     │              <span style=\"color: #00af00; text-decoration-color: #00af00\">0</span> │ batch_normalization_1… │\n",
              "│ (<span style=\"color: #0087ff; text-decoration-color: #0087ff\">MaxPooling3D</span>)            │ <span style=\"color: #00af00; text-decoration-color: #00af00\">128</span>)                   │                │                        │\n",
              "├───────────────────────────┼────────────────────────┼────────────────┼────────────────────────┤\n",
              "│ conv3d_21 (<span style=\"color: #0087ff; text-decoration-color: #0087ff\">Conv3D</span>)        │ (<span style=\"color: #00d7ff; text-decoration-color: #00d7ff\">None</span>, <span style=\"color: #00af00; text-decoration-color: #00af00\">30</span>, <span style=\"color: #00af00; text-decoration-color: #00af00\">30</span>, <span style=\"color: #00af00; text-decoration-color: #00af00\">20</span>,     │        <span style=\"color: #00af00; text-decoration-color: #00af00\">884,992</span> │ max_pooling3d_5[<span style=\"color: #00af00; text-decoration-color: #00af00\">0</span>][<span style=\"color: #00af00; text-decoration-color: #00af00\">0</span>]  │\n",
              "│                           │ <span style=\"color: #00af00; text-decoration-color: #00af00\">256</span>)                   │                │                        │\n",
              "├───────────────────────────┼────────────────────────┼────────────────┼────────────────────────┤\n",
              "│ batch_normalization_20    │ (<span style=\"color: #00d7ff; text-decoration-color: #00d7ff\">None</span>, <span style=\"color: #00af00; text-decoration-color: #00af00\">30</span>, <span style=\"color: #00af00; text-decoration-color: #00af00\">30</span>, <span style=\"color: #00af00; text-decoration-color: #00af00\">20</span>,     │          <span style=\"color: #00af00; text-decoration-color: #00af00\">1,024</span> │ conv3d_21[<span style=\"color: #00af00; text-decoration-color: #00af00\">0</span>][<span style=\"color: #00af00; text-decoration-color: #00af00\">0</span>]        │\n",
              "│ (<span style=\"color: #0087ff; text-decoration-color: #0087ff\">BatchNormalization</span>)      │ <span style=\"color: #00af00; text-decoration-color: #00af00\">256</span>)                   │                │                        │\n",
              "├───────────────────────────┼────────────────────────┼────────────────┼────────────────────────┤\n",
              "│ conv3d_22 (<span style=\"color: #0087ff; text-decoration-color: #0087ff\">Conv3D</span>)        │ (<span style=\"color: #00d7ff; text-decoration-color: #00d7ff\">None</span>, <span style=\"color: #00af00; text-decoration-color: #00af00\">30</span>, <span style=\"color: #00af00; text-decoration-color: #00af00\">30</span>, <span style=\"color: #00af00; text-decoration-color: #00af00\">20</span>,     │      <span style=\"color: #00af00; text-decoration-color: #00af00\">1,769,728</span> │ batch_normalization_2… │\n",
              "│                           │ <span style=\"color: #00af00; text-decoration-color: #00af00\">256</span>)                   │                │                        │\n",
              "├───────────────────────────┼────────────────────────┼────────────────┼────────────────────────┤\n",
              "│ batch_normalization_21    │ (<span style=\"color: #00d7ff; text-decoration-color: #00d7ff\">None</span>, <span style=\"color: #00af00; text-decoration-color: #00af00\">30</span>, <span style=\"color: #00af00; text-decoration-color: #00af00\">30</span>, <span style=\"color: #00af00; text-decoration-color: #00af00\">20</span>,     │          <span style=\"color: #00af00; text-decoration-color: #00af00\">1,024</span> │ conv3d_22[<span style=\"color: #00af00; text-decoration-color: #00af00\">0</span>][<span style=\"color: #00af00; text-decoration-color: #00af00\">0</span>]        │\n",
              "│ (<span style=\"color: #0087ff; text-decoration-color: #0087ff\">BatchNormalization</span>)      │ <span style=\"color: #00af00; text-decoration-color: #00af00\">256</span>)                   │                │                        │\n",
              "├───────────────────────────┼────────────────────────┼────────────────┼────────────────────────┤\n",
              "│ conv3d_transpose_3        │ (<span style=\"color: #00d7ff; text-decoration-color: #00d7ff\">None</span>, <span style=\"color: #00af00; text-decoration-color: #00af00\">60</span>, <span style=\"color: #00af00; text-decoration-color: #00af00\">60</span>, <span style=\"color: #00af00; text-decoration-color: #00af00\">40</span>,     │        <span style=\"color: #00af00; text-decoration-color: #00af00\">262,272</span> │ batch_normalization_2… │\n",
              "│ (<span style=\"color: #0087ff; text-decoration-color: #0087ff\">Conv3DTranspose</span>)         │ <span style=\"color: #00af00; text-decoration-color: #00af00\">128</span>)                   │                │                        │\n",
              "├───────────────────────────┼────────────────────────┼────────────────┼────────────────────────┤\n",
              "│ concatenate_3             │ (<span style=\"color: #00d7ff; text-decoration-color: #00d7ff\">None</span>, <span style=\"color: #00af00; text-decoration-color: #00af00\">60</span>, <span style=\"color: #00af00; text-decoration-color: #00af00\">60</span>, <span style=\"color: #00af00; text-decoration-color: #00af00\">40</span>,     │              <span style=\"color: #00af00; text-decoration-color: #00af00\">0</span> │ conv3d_transpose_3[<span style=\"color: #00af00; text-decoration-color: #00af00\">0</span>]… │\n",
              "│ (<span style=\"color: #0087ff; text-decoration-color: #0087ff\">Concatenate</span>)             │ <span style=\"color: #00af00; text-decoration-color: #00af00\">256</span>)                   │                │ batch_normalization_1… │\n",
              "├───────────────────────────┼────────────────────────┼────────────────┼────────────────────────┤\n",
              "│ conv3d_23 (<span style=\"color: #0087ff; text-decoration-color: #0087ff\">Conv3D</span>)        │ (<span style=\"color: #00d7ff; text-decoration-color: #00d7ff\">None</span>, <span style=\"color: #00af00; text-decoration-color: #00af00\">60</span>, <span style=\"color: #00af00; text-decoration-color: #00af00\">60</span>, <span style=\"color: #00af00; text-decoration-color: #00af00\">40</span>,     │        <span style=\"color: #00af00; text-decoration-color: #00af00\">884,864</span> │ concatenate_3[<span style=\"color: #00af00; text-decoration-color: #00af00\">0</span>][<span style=\"color: #00af00; text-decoration-color: #00af00\">0</span>]    │\n",
              "│                           │ <span style=\"color: #00af00; text-decoration-color: #00af00\">128</span>)                   │                │                        │\n",
              "├───────────────────────────┼────────────────────────┼────────────────┼────────────────────────┤\n",
              "│ batch_normalization_22    │ (<span style=\"color: #00d7ff; text-decoration-color: #00d7ff\">None</span>, <span style=\"color: #00af00; text-decoration-color: #00af00\">60</span>, <span style=\"color: #00af00; text-decoration-color: #00af00\">60</span>, <span style=\"color: #00af00; text-decoration-color: #00af00\">40</span>,     │            <span style=\"color: #00af00; text-decoration-color: #00af00\">512</span> │ conv3d_23[<span style=\"color: #00af00; text-decoration-color: #00af00\">0</span>][<span style=\"color: #00af00; text-decoration-color: #00af00\">0</span>]        │\n",
              "│ (<span style=\"color: #0087ff; text-decoration-color: #0087ff\">BatchNormalization</span>)      │ <span style=\"color: #00af00; text-decoration-color: #00af00\">128</span>)                   │                │                        │\n",
              "├───────────────────────────┼────────────────────────┼────────────────┼────────────────────────┤\n",
              "│ conv3d_24 (<span style=\"color: #0087ff; text-decoration-color: #0087ff\">Conv3D</span>)        │ (<span style=\"color: #00d7ff; text-decoration-color: #00d7ff\">None</span>, <span style=\"color: #00af00; text-decoration-color: #00af00\">60</span>, <span style=\"color: #00af00; text-decoration-color: #00af00\">60</span>, <span style=\"color: #00af00; text-decoration-color: #00af00\">40</span>,     │        <span style=\"color: #00af00; text-decoration-color: #00af00\">442,496</span> │ batch_normalization_2… │\n",
              "│                           │ <span style=\"color: #00af00; text-decoration-color: #00af00\">128</span>)                   │                │                        │\n",
              "├───────────────────────────┼────────────────────────┼────────────────┼────────────────────────┤\n",
              "│ batch_normalization_23    │ (<span style=\"color: #00d7ff; text-decoration-color: #00d7ff\">None</span>, <span style=\"color: #00af00; text-decoration-color: #00af00\">60</span>, <span style=\"color: #00af00; text-decoration-color: #00af00\">60</span>, <span style=\"color: #00af00; text-decoration-color: #00af00\">40</span>,     │            <span style=\"color: #00af00; text-decoration-color: #00af00\">512</span> │ conv3d_24[<span style=\"color: #00af00; text-decoration-color: #00af00\">0</span>][<span style=\"color: #00af00; text-decoration-color: #00af00\">0</span>]        │\n",
              "│ (<span style=\"color: #0087ff; text-decoration-color: #0087ff\">BatchNormalization</span>)      │ <span style=\"color: #00af00; text-decoration-color: #00af00\">128</span>)                   │                │                        │\n",
              "├───────────────────────────┼────────────────────────┼────────────────┼────────────────────────┤\n",
              "│ conv3d_transpose_4        │ (<span style=\"color: #00d7ff; text-decoration-color: #00d7ff\">None</span>, <span style=\"color: #00af00; text-decoration-color: #00af00\">120</span>, <span style=\"color: #00af00; text-decoration-color: #00af00\">120</span>, <span style=\"color: #00af00; text-decoration-color: #00af00\">80</span>,   │         <span style=\"color: #00af00; text-decoration-color: #00af00\">65,600</span> │ batch_normalization_2… │\n",
              "│ (<span style=\"color: #0087ff; text-decoration-color: #0087ff\">Conv3DTranspose</span>)         │ <span style=\"color: #00af00; text-decoration-color: #00af00\">64</span>)                    │                │                        │\n",
              "├───────────────────────────┼────────────────────────┼────────────────┼────────────────────────┤\n",
              "│ concatenate_4             │ (<span style=\"color: #00d7ff; text-decoration-color: #00d7ff\">None</span>, <span style=\"color: #00af00; text-decoration-color: #00af00\">120</span>, <span style=\"color: #00af00; text-decoration-color: #00af00\">120</span>, <span style=\"color: #00af00; text-decoration-color: #00af00\">80</span>,   │              <span style=\"color: #00af00; text-decoration-color: #00af00\">0</span> │ conv3d_transpose_4[<span style=\"color: #00af00; text-decoration-color: #00af00\">0</span>]… │\n",
              "│ (<span style=\"color: #0087ff; text-decoration-color: #0087ff\">Concatenate</span>)             │ <span style=\"color: #00af00; text-decoration-color: #00af00\">128</span>)                   │                │ batch_normalization_1… │\n",
              "├───────────────────────────┼────────────────────────┼────────────────┼────────────────────────┤\n",
              "│ conv3d_25 (<span style=\"color: #0087ff; text-decoration-color: #0087ff\">Conv3D</span>)        │ (<span style=\"color: #00d7ff; text-decoration-color: #00d7ff\">None</span>, <span style=\"color: #00af00; text-decoration-color: #00af00\">120</span>, <span style=\"color: #00af00; text-decoration-color: #00af00\">120</span>, <span style=\"color: #00af00; text-decoration-color: #00af00\">80</span>,   │        <span style=\"color: #00af00; text-decoration-color: #00af00\">221,248</span> │ concatenate_4[<span style=\"color: #00af00; text-decoration-color: #00af00\">0</span>][<span style=\"color: #00af00; text-decoration-color: #00af00\">0</span>]    │\n",
              "│                           │ <span style=\"color: #00af00; text-decoration-color: #00af00\">64</span>)                    │                │                        │\n",
              "├───────────────────────────┼────────────────────────┼────────────────┼────────────────────────┤\n",
              "│ batch_normalization_24    │ (<span style=\"color: #00d7ff; text-decoration-color: #00d7ff\">None</span>, <span style=\"color: #00af00; text-decoration-color: #00af00\">120</span>, <span style=\"color: #00af00; text-decoration-color: #00af00\">120</span>, <span style=\"color: #00af00; text-decoration-color: #00af00\">80</span>,   │            <span style=\"color: #00af00; text-decoration-color: #00af00\">256</span> │ conv3d_25[<span style=\"color: #00af00; text-decoration-color: #00af00\">0</span>][<span style=\"color: #00af00; text-decoration-color: #00af00\">0</span>]        │\n",
              "│ (<span style=\"color: #0087ff; text-decoration-color: #0087ff\">BatchNormalization</span>)      │ <span style=\"color: #00af00; text-decoration-color: #00af00\">64</span>)                    │                │                        │\n",
              "├───────────────────────────┼────────────────────────┼────────────────┼────────────────────────┤\n",
              "│ conv3d_26 (<span style=\"color: #0087ff; text-decoration-color: #0087ff\">Conv3D</span>)        │ (<span style=\"color: #00d7ff; text-decoration-color: #00d7ff\">None</span>, <span style=\"color: #00af00; text-decoration-color: #00af00\">120</span>, <span style=\"color: #00af00; text-decoration-color: #00af00\">120</span>, <span style=\"color: #00af00; text-decoration-color: #00af00\">80</span>,   │        <span style=\"color: #00af00; text-decoration-color: #00af00\">110,656</span> │ batch_normalization_2… │\n",
              "│                           │ <span style=\"color: #00af00; text-decoration-color: #00af00\">64</span>)                    │                │                        │\n",
              "├───────────────────────────┼────────────────────────┼────────────────┼────────────────────────┤\n",
              "│ batch_normalization_25    │ (<span style=\"color: #00d7ff; text-decoration-color: #00d7ff\">None</span>, <span style=\"color: #00af00; text-decoration-color: #00af00\">120</span>, <span style=\"color: #00af00; text-decoration-color: #00af00\">120</span>, <span style=\"color: #00af00; text-decoration-color: #00af00\">80</span>,   │            <span style=\"color: #00af00; text-decoration-color: #00af00\">256</span> │ conv3d_26[<span style=\"color: #00af00; text-decoration-color: #00af00\">0</span>][<span style=\"color: #00af00; text-decoration-color: #00af00\">0</span>]        │\n",
              "│ (<span style=\"color: #0087ff; text-decoration-color: #0087ff\">BatchNormalization</span>)      │ <span style=\"color: #00af00; text-decoration-color: #00af00\">64</span>)                    │                │                        │\n",
              "├───────────────────────────┼────────────────────────┼────────────────┼────────────────────────┤\n",
              "│ conv3d_transpose_5        │ (<span style=\"color: #00d7ff; text-decoration-color: #00d7ff\">None</span>, <span style=\"color: #00af00; text-decoration-color: #00af00\">240</span>, <span style=\"color: #00af00; text-decoration-color: #00af00\">240</span>, <span style=\"color: #00af00; text-decoration-color: #00af00\">160</span>,  │         <span style=\"color: #00af00; text-decoration-color: #00af00\">16,416</span> │ batch_normalization_2… │\n",
              "│ (<span style=\"color: #0087ff; text-decoration-color: #0087ff\">Conv3DTranspose</span>)         │ <span style=\"color: #00af00; text-decoration-color: #00af00\">32</span>)                    │                │                        │\n",
              "├───────────────────────────┼────────────────────────┼────────────────┼────────────────────────┤\n",
              "│ concatenate_5             │ (<span style=\"color: #00d7ff; text-decoration-color: #00d7ff\">None</span>, <span style=\"color: #00af00; text-decoration-color: #00af00\">240</span>, <span style=\"color: #00af00; text-decoration-color: #00af00\">240</span>, <span style=\"color: #00af00; text-decoration-color: #00af00\">160</span>,  │              <span style=\"color: #00af00; text-decoration-color: #00af00\">0</span> │ conv3d_transpose_5[<span style=\"color: #00af00; text-decoration-color: #00af00\">0</span>]… │\n",
              "│ (<span style=\"color: #0087ff; text-decoration-color: #0087ff\">Concatenate</span>)             │ <span style=\"color: #00af00; text-decoration-color: #00af00\">64</span>)                    │                │ batch_normalization_1… │\n",
              "├───────────────────────────┼────────────────────────┼────────────────┼────────────────────────┤\n",
              "│ conv3d_27 (<span style=\"color: #0087ff; text-decoration-color: #0087ff\">Conv3D</span>)        │ (<span style=\"color: #00d7ff; text-decoration-color: #00d7ff\">None</span>, <span style=\"color: #00af00; text-decoration-color: #00af00\">240</span>, <span style=\"color: #00af00; text-decoration-color: #00af00\">240</span>, <span style=\"color: #00af00; text-decoration-color: #00af00\">160</span>,  │         <span style=\"color: #00af00; text-decoration-color: #00af00\">55,328</span> │ concatenate_5[<span style=\"color: #00af00; text-decoration-color: #00af00\">0</span>][<span style=\"color: #00af00; text-decoration-color: #00af00\">0</span>]    │\n",
              "│                           │ <span style=\"color: #00af00; text-decoration-color: #00af00\">32</span>)                    │                │                        │\n",
              "├───────────────────────────┼────────────────────────┼────────────────┼────────────────────────┤\n",
              "│ batch_normalization_26    │ (<span style=\"color: #00d7ff; text-decoration-color: #00d7ff\">None</span>, <span style=\"color: #00af00; text-decoration-color: #00af00\">240</span>, <span style=\"color: #00af00; text-decoration-color: #00af00\">240</span>, <span style=\"color: #00af00; text-decoration-color: #00af00\">160</span>,  │            <span style=\"color: #00af00; text-decoration-color: #00af00\">128</span> │ conv3d_27[<span style=\"color: #00af00; text-decoration-color: #00af00\">0</span>][<span style=\"color: #00af00; text-decoration-color: #00af00\">0</span>]        │\n",
              "│ (<span style=\"color: #0087ff; text-decoration-color: #0087ff\">BatchNormalization</span>)      │ <span style=\"color: #00af00; text-decoration-color: #00af00\">32</span>)                    │                │                        │\n",
              "├───────────────────────────┼────────────────────────┼────────────────┼────────────────────────┤\n",
              "│ conv3d_28 (<span style=\"color: #0087ff; text-decoration-color: #0087ff\">Conv3D</span>)        │ (<span style=\"color: #00d7ff; text-decoration-color: #00d7ff\">None</span>, <span style=\"color: #00af00; text-decoration-color: #00af00\">240</span>, <span style=\"color: #00af00; text-decoration-color: #00af00\">240</span>, <span style=\"color: #00af00; text-decoration-color: #00af00\">160</span>,  │         <span style=\"color: #00af00; text-decoration-color: #00af00\">27,680</span> │ batch_normalization_2… │\n",
              "│                           │ <span style=\"color: #00af00; text-decoration-color: #00af00\">32</span>)                    │                │                        │\n",
              "├───────────────────────────┼────────────────────────┼────────────────┼────────────────────────┤\n",
              "│ batch_normalization_27    │ (<span style=\"color: #00d7ff; text-decoration-color: #00d7ff\">None</span>, <span style=\"color: #00af00; text-decoration-color: #00af00\">240</span>, <span style=\"color: #00af00; text-decoration-color: #00af00\">240</span>, <span style=\"color: #00af00; text-decoration-color: #00af00\">160</span>,  │            <span style=\"color: #00af00; text-decoration-color: #00af00\">128</span> │ conv3d_28[<span style=\"color: #00af00; text-decoration-color: #00af00\">0</span>][<span style=\"color: #00af00; text-decoration-color: #00af00\">0</span>]        │\n",
              "│ (<span style=\"color: #0087ff; text-decoration-color: #0087ff\">BatchNormalization</span>)      │ <span style=\"color: #00af00; text-decoration-color: #00af00\">32</span>)                    │                │                        │\n",
              "├───────────────────────────┼────────────────────────┼────────────────┼────────────────────────┤\n",
              "│ conv3d_29 (<span style=\"color: #0087ff; text-decoration-color: #0087ff\">Conv3D</span>)        │ (<span style=\"color: #00d7ff; text-decoration-color: #00d7ff\">None</span>, <span style=\"color: #00af00; text-decoration-color: #00af00\">240</span>, <span style=\"color: #00af00; text-decoration-color: #00af00\">240</span>, <span style=\"color: #00af00; text-decoration-color: #00af00\">160</span>,  │            <span style=\"color: #00af00; text-decoration-color: #00af00\">165</span> │ batch_normalization_2… │\n",
              "│                           │ <span style=\"color: #00af00; text-decoration-color: #00af00\">5</span>)                     │                │                        │\n",
              "└───────────────────────────┴────────────────────────┴────────────────┴────────────────────────┘\n",
              "</pre>\n"
            ]
          },
          "metadata": {}
        },
        {
          "output_type": "display_data",
          "data": {
            "text/plain": [
              "\u001b[1m Total params: \u001b[0m\u001b[38;5;34m5,608,069\u001b[0m (21.39 MB)\n"
            ],
            "text/html": [
              "<pre style=\"white-space:pre;overflow-x:auto;line-height:normal;font-family:Menlo,'DejaVu Sans Mono',consolas,'Courier New',monospace\"><span style=\"font-weight: bold\"> Total params: </span><span style=\"color: #00af00; text-decoration-color: #00af00\">5,608,069</span> (21.39 MB)\n",
              "</pre>\n"
            ]
          },
          "metadata": {}
        },
        {
          "output_type": "display_data",
          "data": {
            "text/plain": [
              "\u001b[1m Trainable params: \u001b[0m\u001b[38;5;34m5,605,253\u001b[0m (21.38 MB)\n"
            ],
            "text/html": [
              "<pre style=\"white-space:pre;overflow-x:auto;line-height:normal;font-family:Menlo,'DejaVu Sans Mono',consolas,'Courier New',monospace\"><span style=\"font-weight: bold\"> Trainable params: </span><span style=\"color: #00af00; text-decoration-color: #00af00\">5,605,253</span> (21.38 MB)\n",
              "</pre>\n"
            ]
          },
          "metadata": {}
        },
        {
          "output_type": "display_data",
          "data": {
            "text/plain": [
              "\u001b[1m Non-trainable params: \u001b[0m\u001b[38;5;34m2,816\u001b[0m (11.00 KB)\n"
            ],
            "text/html": [
              "<pre style=\"white-space:pre;overflow-x:auto;line-height:normal;font-family:Menlo,'DejaVu Sans Mono',consolas,'Courier New',monospace\"><span style=\"font-weight: bold\"> Non-trainable params: </span><span style=\"color: #00af00; text-decoration-color: #00af00\">2,816</span> (11.00 KB)\n",
              "</pre>\n"
            ]
          },
          "metadata": {}
        }
      ]
    },
    {
      "cell_type": "markdown",
      "source": [
        "**OPTIMIZED CHANGES HERE**"
      ],
      "metadata": {
        "id": "ECl7luINid5a"
      }
    },
    {
      "cell_type": "code",
      "source": [
        "dice_loss = DiceLoss()\n",
        "crossentropy_loss = CategoricalCrossentropy()"
      ],
      "metadata": {
        "id": "f_p4qRjWiGal"
      },
      "execution_count": null,
      "outputs": []
    },
    {
      "cell_type": "code",
      "source": [
        "def combined_loss(y_true, y_pred):\n",
        "    return dice_loss(y_true, y_pred) + crossentropy_loss(y_true, y_pred)"
      ],
      "metadata": {
        "id": "WoMvWLasiJMD"
      },
      "execution_count": null,
      "outputs": []
    },
    {
      "cell_type": "code",
      "source": [
        "metrics = [IOUScore(threshold=0.5), FScore(threshold=0.5), 'accuracy']"
      ],
      "metadata": {
        "id": "8Ows78h3iI0l"
      },
      "execution_count": null,
      "outputs": []
    },
    {
      "cell_type": "code",
      "source": [
        "reduce_lr = ReduceLROnPlateau(\n",
        "    monitor='val_loss',\n",
        "    factor=0.5,\n",
        "    patience=3,\n",
        "    min_lr=1e-4,\n",
        "    verbose=1\n",
        ")"
      ],
      "metadata": {
        "id": "Cmpe6E2olq2X"
      },
      "execution_count": null,
      "outputs": []
    },
    {
      "cell_type": "code",
      "source": [
        "# Compile the model\n",
        "model.compile(optimizer='adam', loss=combined_loss, metrics=metrics)"
      ],
      "metadata": {
        "id": "xh2Q8qQYYQTI"
      },
      "execution_count": null,
      "outputs": []
    },
    {
      "cell_type": "code",
      "source": [
        "# Train the model with EarlyStopping callback\n",
        "early_stopping = tf.keras.callbacks.EarlyStopping(monitor='val_loss', patience=5, restore_best_weights=True)\n",
        "model.fit(train_generator, validation_data=val_generator, epochs=5, verbose=1, callbacks=[reduce_lr])"
      ],
      "metadata": {
        "colab": {
          "base_uri": "https://localhost:8080/"
        },
        "id": "2MSJsNfkYSwV",
        "outputId": "445c89be-af47-4291-9468-684c835cab8f"
      },
      "execution_count": null,
      "outputs": [
        {
          "output_type": "stream",
          "name": "stdout",
          "text": [
            "Epoch 1/5\n"
          ]
        },
        {
          "output_type": "stream",
          "name": "stderr",
          "text": [
            "/usr/local/lib/python3.10/dist-packages/keras/src/trainers/data_adapters/py_dataset_adapter.py:121: UserWarning: Your `PyDataset` class should call `super().__init__(**kwargs)` in its constructor. `**kwargs` can include `workers`, `use_multiprocessing`, `max_queue_size`. Do not pass these arguments to `fit()`, as they will be ignored.\n",
            "  self._warn_if_super_not_called()\n"
          ]
        },
        {
          "output_type": "stream",
          "name": "stdout",
          "text": [
            "\u001b[1m251/251\u001b[0m \u001b[32m━━━━━━━━━━━━━━━━━━━━\u001b[0m\u001b[37m\u001b[0m \u001b[1m12834s\u001b[0m 49s/step - accuracy: 0.8506 - f1-score: 0.2044 - iou_score: 0.1607 - loss: 1.9372 - val_accuracy: 0.9900 - val_f1-score: 0.4132 - val_iou_score: 0.4059 - val_loss: 0.9259 - learning_rate: 0.0010\n",
            "Epoch 2/5\n",
            "\u001b[1m251/251\u001b[0m \u001b[32m━━━━━━━━━━━━━━━━━━━━\u001b[0m\u001b[37m\u001b[0m \u001b[1m10084s\u001b[0m 39s/step - accuracy: 0.9926 - f1-score: 0.6695 - iou_score: 0.5852 - loss: 0.7194 - val_accuracy: 0.9914 - val_f1-score: 0.6571 - val_iou_score: 0.5775 - val_loss: 0.6185 - learning_rate: 0.0010\n",
            "Epoch 3/5\n",
            "\u001b[1m251/251\u001b[0m \u001b[32m━━━━━━━━━━━━━━━━━━━━\u001b[0m\u001b[37m\u001b[0m \u001b[1m10197s\u001b[0m 40s/step - accuracy: 0.9933 - f1-score: 0.7131 - iou_score: 0.6234 - loss: 0.5524 - val_accuracy: 0.9887 - val_f1-score: 0.4670 - val_iou_score: 0.4193 - val_loss: 0.7775 - learning_rate: 0.0010\n",
            "Epoch 4/5\n",
            "\u001b[1m251/251\u001b[0m \u001b[32m━━━━━━━━━━━━━━━━━━━━\u001b[0m\u001b[37m\u001b[0m \u001b[1m10225s\u001b[0m 40s/step - accuracy: 0.9941 - f1-score: 0.7353 - iou_score: 0.6439 - loss: 0.4988 - val_accuracy: 0.9940 - val_f1-score: 0.7286 - val_iou_score: 0.6385 - val_loss: 0.5326 - learning_rate: 0.0010\n",
            "Epoch 5/5\n",
            "\u001b[1m251/251\u001b[0m \u001b[32m━━━━━━━━━━━━━━━━━━━━\u001b[0m\u001b[37m\u001b[0m \u001b[1m10678s\u001b[0m 41s/step - accuracy: 0.9947 - f1-score: 0.7480 - iou_score: 0.6590 - loss: 0.4669 - val_accuracy: 0.9941 - val_f1-score: 0.7005 - val_iou_score: 0.6123 - val_loss: 0.5749 - learning_rate: 0.0010\n"
          ]
        },
        {
          "output_type": "execute_result",
          "data": {
            "text/plain": [
              "<keras.src.callbacks.history.History at 0x7c66b5c45660>"
            ]
          },
          "metadata": {},
          "execution_count": 43
        }
      ]
    },
    {
      "cell_type": "markdown",
      "source": [
        " - TRAIN TO ONLY 4 EPOCHS NEXT TIME"
      ],
      "metadata": {
        "id": "Snb75MGNWaL8"
      }
    },
    {
      "cell_type": "code",
      "source": [
        "model.save('Modified_Model_V22.keras')"
      ],
      "metadata": {
        "id": "Gr_zb9Rtl0qU",
        "colab": {
          "base_uri": "https://localhost:8080/",
          "height": 141
        },
        "outputId": "34663a2e-368d-490f-8be4-488a20aafe8b"
      },
      "execution_count": null,
      "outputs": [
        {
          "output_type": "error",
          "ename": "NameError",
          "evalue": "name 'model' is not defined",
          "traceback": [
            "\u001b[0;31m---------------------------------------------------------------------------\u001b[0m",
            "\u001b[0;31mNameError\u001b[0m                                 Traceback (most recent call last)",
            "\u001b[0;32m<ipython-input-1-a58ddd99ce0b>\u001b[0m in \u001b[0;36m<cell line: 1>\u001b[0;34m()\u001b[0m\n\u001b[0;32m----> 1\u001b[0;31m \u001b[0mmodel\u001b[0m\u001b[0;34m.\u001b[0m\u001b[0msave\u001b[0m\u001b[0;34m(\u001b[0m\u001b[0;34m'Modified_Model_V22.keras'\u001b[0m\u001b[0;34m)\u001b[0m\u001b[0;34m\u001b[0m\u001b[0;34m\u001b[0m\u001b[0m\n\u001b[0m",
            "\u001b[0;31mNameError\u001b[0m: name 'model' is not defined"
          ]
        }
      ]
    },
    {
      "cell_type": "markdown",
      "source": [
        "**ADD STEP TO AUTOMATICALLY DOWNLOAD FILE**"
      ],
      "metadata": {
        "id": "90uJxIJtWSLZ"
      }
    },
    {
      "cell_type": "code",
      "source": [
        "# Post-processing Function\n",
        "# Function to Apply Post-Processing to Predictions\n",
        "def post_process_prediction(prediction):\n",
        "    # Example: Apply morphological closing\n",
        "    prediction = prediction.argmax(axis=-1)\n",
        "    for i in range(prediction.shape[2]):\n",
        "        prediction[:, :, i] = cv2.morphologyEx(prediction[:, :, i].astype(np.uint8), cv2.MORPH_CLOSE, np.ones((5, 5), np.uint8))\n",
        "    return prediction"
      ],
      "metadata": {
        "id": "2U2StFiBTCiV"
      },
      "execution_count": null,
      "outputs": []
    },
    {
      "cell_type": "markdown",
      "source": [
        "**With Post Processing**"
      ],
      "metadata": {
        "id": "wXTzzOG4bKit"
      }
    },
    {
      "cell_type": "code",
      "source": [
        "# Model Evaluation and Visualization\n",
        "# Function to Visualize Predictions with Post-Processing\n",
        "def plot_predictions(model, index):\n",
        "    X, y_true = train_generator[index]  # Load data from the training set for visualization\n",
        "    y_pred = model.predict(X)[0]\n",
        "\n",
        "    y_pred_post_processed = post_process_prediction(y_pred)\n",
        "\n",
        "    # Plotting the original input, ground truth, and predicted segmentation\n",
        "    fig, axes = plt.subplots(1, 3, figsize=(18, 6))\n",
        "    axes[0].imshow(X[0][:, :, X[0].shape[2] // 2, 0], cmap='gray')\n",
        "    axes[0].set_title('Input FLAIR Slice')\n",
        "    axes[1].imshow(y_true[0][:, :, X[0].shape[2] // 2].argmax(axis=-1), cmap='jet')\n",
        "    axes[1].set_title('Ground Truth Segmentation')\n",
        "    axes[2].imshow(y_pred_post_processed[:, :, X[0].shape[2] // 2], cmap='jet')\n",
        "    axes[2].set_title('Predicted Segmentation (Post-Processed)')\n",
        "    plt.show()\n",
        "\n",
        "# Example usage of the plot_predictions function\n",
        "plot_predictions(model, index=0)"
      ],
      "metadata": {
        "colab": {
          "base_uri": "https://localhost:8080/",
          "height": 394
        },
        "id": "pN7CYe78Udcl",
        "outputId": "0cbc24c1-f418-43ff-fc47-882de542f711"
      },
      "execution_count": null,
      "outputs": [
        {
          "output_type": "stream",
          "name": "stdout",
          "text": [
            "\u001b[1m1/1\u001b[0m \u001b[32m━━━━━━━━━━━━━━━━━━━━\u001b[0m\u001b[37m\u001b[0m \u001b[1m1s\u001b[0m 1s/step\n"
          ]
        },
        {
          "output_type": "display_data",
          "data": {
            "text/plain": [
              "<Figure size 1800x600 with 3 Axes>"
            ],
            "image/png": "[encoded data removed]"
          },
          "metadata": {}
        }
      ]
    },
    {
      "cell_type": "markdown",
      "source": [
        "**Without Post Processing**"
      ],
      "metadata": {
        "id": "zaJ-3cMzbMjU"
      }
    },
    {
      "cell_type": "code",
      "source": [
        "def plot_predictions(model, index):\n",
        "    X, y_true = train_generator[index]  # Load data from the training set for visualization\n",
        "    y_pred = model.predict(X)[0]\n",
        "\n",
        "    # Remove the singleton dimension from X and y_true\n",
        "    X = np.squeeze(X, axis=0)\n",
        "    y_true = np.squeeze(y_true, axis=0)\n",
        "\n",
        "    # Plot the original input, ground truth, and prediction\n",
        "    fig, axes = plt.subplots(1, 3, figsize=(18, 6))\n",
        "\n",
        "    # Display the middle slice of the FLAIR modality\n",
        "    axes[0].imshow(X[:, :, X.shape[2] // 2, 0], cmap='gray')\n",
        "    axes[0].set_title('Input FLAIR (Middle Slice)')\n",
        "\n",
        "    # Display the middle slice of the ground truth segmentation mask\n",
        "    axes[1].imshow(np.argmax(y_true[:, :, X.shape[2] // 2], axis=-1), cmap='gray')\n",
        "    axes[1].set_title('Ground Truth Segmentation (Middle Slice)')\n",
        "\n",
        "    # Display the middle slice of the predicted segmentation mask\n",
        "    axes[2].imshow(np.argmax(y_pred[:, :, X.shape[2] // 2], axis=-1), cmap='gray')\n",
        "    axes[2].set_title('Predicted Segmentation (Middle Slice)')\n",
        "\n",
        "    plt.show()\n",
        "\n",
        "# Plot predictions for a sample\n",
        "plot_predictions(model, 0)"
      ],
      "metadata": {
        "colab": {
          "base_uri": "https://localhost:8080/",
          "height": 339
        },
        "id": "4aulu16tbOGc",
        "outputId": "18d4597f-61fe-4162-d683-a2a1a966f6a9"
      },
      "execution_count": null,
      "outputs": [
        {
          "output_type": "stream",
          "name": "stdout",
          "text": [
            "\u001b[1m1/1\u001b[0m \u001b[32m━━━━━━━━━━━━━━━━━━━━\u001b[0m\u001b[37m\u001b[0m \u001b[1m0s\u001b[0m 255ms/step\n"
          ]
        },
        {
          "output_type": "error",
          "ename": "ValueError",
          "evalue": "cannot select an axis to squeeze out which has size not equal to one",
          "traceback": [
            "\u001b[0;31m---------------------------------------------------------------------------\u001b[0m",
            "\u001b[0;31mValueError\u001b[0m                                Traceback (most recent call last)",
            "\u001b[0;32m<ipython-input-47-17c6bcb6c5b8>\u001b[0m in \u001b[0;36m<cell line: 27>\u001b[0;34m()\u001b[0m\n\u001b[1;32m     25\u001b[0m \u001b[0;34m\u001b[0m\u001b[0m\n\u001b[1;32m     26\u001b[0m \u001b[0;31m# Plot predictions for a sample\u001b[0m\u001b[0;34m\u001b[0m\u001b[0;34m\u001b[0m\u001b[0m\n\u001b[0;32m---> 27\u001b[0;31m \u001b[0mplot_predictions\u001b[0m\u001b[0;34m(\u001b[0m\u001b[0mmodel\u001b[0m\u001b[0;34m,\u001b[0m \u001b[0;36m0\u001b[0m\u001b[0;34m)\u001b[0m\u001b[0;34m\u001b[0m\u001b[0;34m\u001b[0m\u001b[0m\n\u001b[0m",
            "\u001b[0;32m<ipython-input-47-17c6bcb6c5b8>\u001b[0m in \u001b[0;36mplot_predictions\u001b[0;34m(model, index)\u001b[0m\n\u001b[1;32m      4\u001b[0m \u001b[0;34m\u001b[0m\u001b[0m\n\u001b[1;32m      5\u001b[0m     \u001b[0;31m# Remove the singleton dimension from X and y_true\u001b[0m\u001b[0;34m\u001b[0m\u001b[0;34m\u001b[0m\u001b[0m\n\u001b[0;32m----> 6\u001b[0;31m     \u001b[0mX\u001b[0m \u001b[0;34m=\u001b[0m \u001b[0mnp\u001b[0m\u001b[0;34m.\u001b[0m\u001b[0msqueeze\u001b[0m\u001b[0;34m(\u001b[0m\u001b[0mX\u001b[0m\u001b[0;34m,\u001b[0m \u001b[0maxis\u001b[0m\u001b[0;34m=\u001b[0m\u001b[0;36m0\u001b[0m\u001b[0;34m)\u001b[0m\u001b[0;34m\u001b[0m\u001b[0;34m\u001b[0m\u001b[0m\n\u001b[0m\u001b[1;32m      7\u001b[0m     \u001b[0my_true\u001b[0m \u001b[0;34m=\u001b[0m \u001b[0mnp\u001b[0m\u001b[0;34m.\u001b[0m\u001b[0msqueeze\u001b[0m\u001b[0;34m(\u001b[0m\u001b[0my_true\u001b[0m\u001b[0;34m,\u001b[0m \u001b[0maxis\u001b[0m\u001b[0;34m=\u001b[0m\u001b[0;36m0\u001b[0m\u001b[0;34m)\u001b[0m\u001b[0;34m\u001b[0m\u001b[0;34m\u001b[0m\u001b[0m\n\u001b[1;32m      8\u001b[0m \u001b[0;34m\u001b[0m\u001b[0m\n",
            "\u001b[0;32m/usr/local/lib/python3.10/dist-packages/numpy/core/fromnumeric.py\u001b[0m in \u001b[0;36msqueeze\u001b[0;34m(a, axis)\u001b[0m\n\u001b[1;32m   1556\u001b[0m         \u001b[0;32mreturn\u001b[0m \u001b[0msqueeze\u001b[0m\u001b[0;34m(\u001b[0m\u001b[0;34m)\u001b[0m\u001b[0;34m\u001b[0m\u001b[0;34m\u001b[0m\u001b[0m\n\u001b[1;32m   1557\u001b[0m     \u001b[0;32melse\u001b[0m\u001b[0;34m:\u001b[0m\u001b[0;34m\u001b[0m\u001b[0;34m\u001b[0m\u001b[0m\n\u001b[0;32m-> 1558\u001b[0;31m         \u001b[0;32mreturn\u001b[0m \u001b[0msqueeze\u001b[0m\u001b[0;34m(\u001b[0m\u001b[0maxis\u001b[0m\u001b[0;34m=\u001b[0m\u001b[0maxis\u001b[0m\u001b[0;34m)\u001b[0m\u001b[0;34m\u001b[0m\u001b[0;34m\u001b[0m\u001b[0m\n\u001b[0m\u001b[1;32m   1559\u001b[0m \u001b[0;34m\u001b[0m\u001b[0m\n\u001b[1;32m   1560\u001b[0m \u001b[0;34m\u001b[0m\u001b[0m\n",
            "\u001b[0;31mValueError\u001b[0m: cannot select an axis to squeeze out which has size not equal to one"
          ]
        }
      ]
    },
    {
      "cell_type": "markdown",
      "source": [
        "##Preprocessing\n",
        "\n",
        " - Removed some processes because it ruined image quality"
      ],
      "metadata": {
        "id": "mwjhyJLIB0Ew"
      }
    },
    {
      "cell_type": "markdown",
      "source": [
        "##EDA"
      ],
      "metadata": {
        "id": "f4ma88fbIhdz"
      }
    },
    {
      "cell_type": "markdown",
      "source": [
        "##Model Definition U-Net"
      ],
      "metadata": {
        "id": "2dQv8cnaB_Ri"
      }
    },
    {
      "cell_type": "markdown",
      "source": [
        "##Combined Loss Function (Dice + Cross-Entropy)"
      ],
      "metadata": {
        "id": "dxSMKr9uK2ei"
      }
    },
    {
      "cell_type": "markdown",
      "source": [
        "##Data Generator"
      ],
      "metadata": {
        "id": "o_XN8vKJCIX2"
      }
    },
    {
      "cell_type": "markdown",
      "source": [
        "##Model Training"
      ],
      "metadata": {
        "id": "yP9mJLSCCNkB"
      }
    },
    {
      "cell_type": "markdown",
      "source": [
        "##Post Processing"
      ],
      "metadata": {
        "id": "3p04ihIIHS8D"
      }
    },
    {
      "cell_type": "markdown",
      "source": [
        "##Model Eval/Visualization"
      ],
      "metadata": {
        "id": "whMt4wR8CR99"
      }
    },
    {
      "cell_type": "markdown",
      "source": [
        " **BraTS Challenge** focuses on analyzing and segmenting gliomas using multi-parametric MRI (mpMRI) data. The dataset includes:\n",
        "\n",
        "1. **MRI Modalities**:\n",
        "   - Native T1-weighted (T1)\n",
        "   - Post-contrast T1-weighted (T1Gd)\n",
        "   - T2-weighted (T2)\n",
        "   - T2 Fluid Attenuated Inversion Recovery (T2-FLAIR)\n",
        "\n",
        "2. **File Format**:\n",
        "   - MRI scans are provided as **NIfTI files (.nii.gz)**.\n",
        "   - Associated de-identified DICOM files (.dcm) might be released later.\n",
        "\n",
        "3. **Annotations**:\n",
        "   - Tumor sub-regions are segmented and labeled as:\n",
        "     - **GD-enhancing tumor (ET)**: Label 4\n",
        "     - **Peritumoral edematous/invaded tissue (ED)**: Label 2\n",
        "     - **Necrotic tumor core (NCR)**: Label 1\n",
        "\n",
        "4. **Data Preprocessing**:\n",
        "   - Images are **co-registered** to a common anatomical template.\n",
        "   - Interpolated to a uniform voxel resolution of **1 mm³**.\n",
        "   - Skull-stripped.\n",
        "\n",
        "5. **Clinical Background**:\n",
        "   - The dataset includes **multi-institutional, routine clinically-acquired mpMRI scans**.\n",
        "   - All scans are pathologically confirmed and have MGMT promoter methylation status.\n",
        "\n",
        "This dataset is designed for tasks such as tumor segmentation, classification, or related applications in glioma research. It is pre-processed for consistency and quality and includes detailed ground truth annotations validated by expert neuroradiologists.\n"
      ],
      "metadata": {
        "id": "bwjO9HOLCycV"
      }
    }
  ]
}